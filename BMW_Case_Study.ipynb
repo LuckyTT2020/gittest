{
  "nbformat": 4,
  "nbformat_minor": 0,
  "metadata": {
    "colab": {
      "name": "BMW Case Study.ipynb",
      "provenance": [],
      "collapsed_sections": []
    },
    "kernelspec": {
      "display_name": "Python 3",
      "language": "python",
      "name": "python3"
    },
    "language_info": {
      "codemirror_mode": {
        "name": "ipython",
        "version": 3
      },
      "file_extension": ".py",
      "mimetype": "text/x-python",
      "name": "python",
      "nbconvert_exporter": "python",
      "pygments_lexer": "ipython3",
      "version": "3.7.3"
    }
  },
  "cells": [
    {
      "cell_type": "markdown",
      "metadata": {
        "id": "1_QMzUiE30-8"
      },
      "source": [
        "## **Motivation**\n",
        "From this case study, the dataset used (BMW used cars dataset) provides a potential solution for an accurate and fast way to evaluate the market value of a used vehicle given serveral easily collectible information, such as model of the car and mileage. On the used car market, how to evaluate the market value of a car objectively and accurately has always been a challenge for inexperienced used car sellers. If applicable, this case study will give both car sellers and buyers with limited information and experience an advantage when bargaining as well as a much easier way to plan financially when it comes to buying and selling cars. \n",
        "\n",
        "## **Data source description**\n",
        "Here is a dataset for BMW used cars. It includes the market price for sale, the year when the used car was bought, the series that the used car belongs to, the mileage that how many miles the used car has run, the tax that needs to be paid, and the engine size of the used car. The dataset has relatively high quality: other than some duplicates, there are few missing values in the dataset. However, these duplicates are easily identifiable so the data cleaning required is minimal.\n",
        "\n",
        "## **Problem statement**\n",
        "Based on the information that collected so far, the task is to find an objective and accurate evaluation of a used car when it enters the market. Some insights into the main factors that determine the value of a used car are also valuable. Moreover, the major focus is to find a suitable model to predict the market value of a used car depending on its easily accesible descriptions, vis-à-vis the six provided features. From the modeling prospective, the target variable is the \"price\" of a used bmw car, and the features used are the six provided features.\n",
        "\n",
        "## **Analysis Plan**\n",
        "First, exploratory analysis on the dataset is conducted in order to 1)evluate the quality of the data, and 2) find out the necessary transformation and feature engineering needed in order to achieve optimal modeling results. Multiple visualization methods, including boxplot, barplot, density plot, ridge plot etc.\n",
        "\n",
        "After necessary transformation and feature engineering have been performed, multiple modeling techniques are compared to find the optimal model. In order to make sure an appropriate hyperparameter setting is chosen for each model, cross-validation with hyperparameter tuning is applied for each model. To evaluate the result of each model, considering 1) this is a regression problem and 2) the analysis is under the assumption that for each customer, the utility margin for equal amount of money is also equal, Root-mean Squared Error has been decided as the single performance metric in this case study.\n",
        "\n",
        "After the optimal model has been selected, the model is retrained on a broader dataset for better generalization and for a fair evalution of the prediction accuracy. Feature importance has also been plotted for a sanity check and to provide insights for future modeling purposes. \n",
        "At last, opportunities for future improvements and broader application are given for stakeholders to evalute the business value of this model.\n",
        "\n",
        "## **Executive Summary**\n",
        "Overall, the BMW used cars dataset has provided a fast way to predict the market value of a used car with estimated error below $2266 within seconds.The targeted customer who will be interested in this functionality will be non-professional used car sellers and used car buyers. With more engineering resources available, this model can be used in more complex use cases, including guiding buyers to find their ideal used car, helping used car sells set more competitative price and eventually help this app users to make better financial decisions when it comes to the buying and selling of used cars."
      ]
    },
    {
      "cell_type": "code",
      "metadata": {
        "colab": {
          "base_uri": "https://localhost:8080/"
        },
        "id": "8JtqikrUjslf",
        "outputId": "f221c131-c3ba-434d-8f5b-3d3c6c2dae72"
      },
      "source": [
        "!pip install joypy"
      ],
      "execution_count": 67,
      "outputs": [
        {
          "output_type": "stream",
          "text": [
            "Requirement already satisfied: joypy in /usr/local/lib/python3.7/dist-packages (0.2.5)\n",
            "Requirement already satisfied: numpy>=1.16.5 in /usr/local/lib/python3.7/dist-packages (from joypy) (1.19.5)\n",
            "Requirement already satisfied: matplotlib in /usr/local/lib/python3.7/dist-packages (from joypy) (3.2.2)\n",
            "Requirement already satisfied: scipy>=0.11.0 in /usr/local/lib/python3.7/dist-packages (from joypy) (1.4.1)\n",
            "Requirement already satisfied: pandas>=0.20.0 in /usr/local/lib/python3.7/dist-packages (from joypy) (1.1.5)\n",
            "Requirement already satisfied: pyparsing!=2.0.4,!=2.1.2,!=2.1.6,>=2.0.1 in /usr/local/lib/python3.7/dist-packages (from matplotlib->joypy) (2.4.7)\n",
            "Requirement already satisfied: kiwisolver>=1.0.1 in /usr/local/lib/python3.7/dist-packages (from matplotlib->joypy) (1.3.1)\n",
            "Requirement already satisfied: python-dateutil>=2.1 in /usr/local/lib/python3.7/dist-packages (from matplotlib->joypy) (2.8.1)\n",
            "Requirement already satisfied: cycler>=0.10 in /usr/local/lib/python3.7/dist-packages (from matplotlib->joypy) (0.10.0)\n",
            "Requirement already satisfied: pytz>=2017.2 in /usr/local/lib/python3.7/dist-packages (from pandas>=0.20.0->joypy) (2018.9)\n",
            "Requirement already satisfied: six>=1.5 in /usr/local/lib/python3.7/dist-packages (from python-dateutil>=2.1->matplotlib->joypy) (1.15.0)\n"
          ],
          "name": "stdout"
        }
      ]
    },
    {
      "cell_type": "code",
      "metadata": {
        "id": "_KJK2EH8Rh9c"
      },
      "source": [
        "import pandas as pd\n",
        "import numpy as np\n",
        "import seaborn as sns\n",
        "import joypy"
      ],
      "execution_count": 68,
      "outputs": []
    },
    {
      "cell_type": "code",
      "metadata": {
        "id": "_H_BXmTuRnR6"
      },
      "source": [
        "from google.colab import drive\n",
        "import re"
      ],
      "execution_count": 69,
      "outputs": []
    },
    {
      "cell_type": "code",
      "metadata": {
        "id": "iBWjGB4lYxyR"
      },
      "source": [
        "\n",
        "from sklearn.preprocessing import OneHotEncoder,MinMaxScaler,StandardScaler\n",
        "from sklearn.model_selection import train_test_split,GridSearchCV\n",
        "from sklearn.pipeline import Pipeline\n",
        "\n",
        "from sklearn.linear_model import LinearRegression,ElasticNet\n",
        "from sklearn.metrics import mean_squared_error\n",
        "from sklearn.ensemble import RandomForestRegressor\n",
        "from xgboost import XGBRegressor\n",
        "\n",
        "from sklearn.compose import ColumnTransformer\n",
        "from matplotlib import pyplot as plt\n",
        "import statsmodels.api as sm\n",
        "from sklearn.model_selection import ShuffleSplit"
      ],
      "execution_count": 70,
      "outputs": []
    },
    {
      "cell_type": "markdown",
      "metadata": {
        "id": "W-DrlIV7TqZJ"
      },
      "source": [
        "# **Load Data**"
      ]
    },
    {
      "cell_type": "markdown",
      "metadata": {
        "id": "c2I9Y6dKlWYF"
      },
      "source": [
        "\n",
        "**Data Processing**\n",
        "\n",
        "\n",
        "*   Download data from Github and upload it into Google Drive. \n",
        "*   Programmatically load data into the analytical tool - Google colab here.\n",
        "Perform cleaning tasks on text values, removing all whitespace from every data frame cell.  \n",
        "\n",
        "*   Perform cleaning tasks on missing values. After cleaning, there is no missing value. \n",
        "\n",
        "*   Check whether duplicate rows exist. And drop duplicate rows.\n",
        "\n",
        "\n",
        "\n",
        "\n",
        "\n",
        "\n",
        "\n"
      ]
    },
    {
      "cell_type": "code",
      "metadata": {
        "colab": {
          "base_uri": "https://localhost:8080/"
        },
        "id": "L8IzDKYKRoIq",
        "outputId": "831693a3-3380-4d01-82b5-d5bda44c403b"
      },
      "source": [
        "drive.mount('/content/drive')\n",
        "df_bmw=pd.read_csv('/content/drive/MyDrive/Datacamp DS certification/bmw.txt')"
      ],
      "execution_count": 71,
      "outputs": [
        {
          "output_type": "stream",
          "text": [
            "Drive already mounted at /content/drive; to attempt to forcibly remount, call drive.mount(\"/content/drive\", force_remount=True).\n"
          ],
          "name": "stdout"
        }
      ]
    },
    {
      "cell_type": "code",
      "metadata": {
        "colab": {
          "base_uri": "https://localhost:8080/"
        },
        "id": "WI1hIlp1E0KF",
        "outputId": "e34389fe-ea99-49a9-8501-46fa63556eef"
      },
      "source": [
        "print('Number of records: {} \\nNumber of features: {}'.format(len(df_bmw), len(df_bmw.columns)))\n",
        "print('Features: {}'.format(df_bmw.columns))"
      ],
      "execution_count": 72,
      "outputs": [
        {
          "output_type": "stream",
          "text": [
            "Number of records: 10781 \n",
            "Number of features: 9\n",
            "Features: Index(['model', 'year', 'price', 'transmission', 'mileage', 'fuelType', 'tax',\n",
            "       'mpg', 'engineSize'],\n",
            "      dtype='object')\n"
          ],
          "name": "stdout"
        }
      ]
    },
    {
      "cell_type": "code",
      "metadata": {
        "colab": {
          "base_uri": "https://localhost:8080/",
          "height": 413
        },
        "id": "Y3tYqHK7-xx2",
        "outputId": "ec3f8fa2-a6b3-4c0f-a120-21b0dce0d869"
      },
      "source": [
        "# check whether exists duplicate rows \n",
        "duplicateRows_df=df_bmw[df_bmw.duplicated(keep=False)]\n",
        "duplicateRows_df\n"
      ],
      "execution_count": 73,
      "outputs": [
        {
          "output_type": "execute_result",
          "data": {
            "text/html": [
              "<div>\n",
              "<style scoped>\n",
              "    .dataframe tbody tr th:only-of-type {\n",
              "        vertical-align: middle;\n",
              "    }\n",
              "\n",
              "    .dataframe tbody tr th {\n",
              "        vertical-align: top;\n",
              "    }\n",
              "\n",
              "    .dataframe thead th {\n",
              "        text-align: right;\n",
              "    }\n",
              "</style>\n",
              "<table border=\"1\" class=\"dataframe\">\n",
              "  <thead>\n",
              "    <tr style=\"text-align: right;\">\n",
              "      <th></th>\n",
              "      <th>model</th>\n",
              "      <th>year</th>\n",
              "      <th>price</th>\n",
              "      <th>transmission</th>\n",
              "      <th>mileage</th>\n",
              "      <th>fuelType</th>\n",
              "      <th>tax</th>\n",
              "      <th>mpg</th>\n",
              "      <th>engineSize</th>\n",
              "    </tr>\n",
              "  </thead>\n",
              "  <tbody>\n",
              "    <tr>\n",
              "      <th>173</th>\n",
              "      <td>X4</td>\n",
              "      <td>2019</td>\n",
              "      <td>33998</td>\n",
              "      <td>Semi-Auto</td>\n",
              "      <td>7272</td>\n",
              "      <td>Diesel</td>\n",
              "      <td>150</td>\n",
              "      <td>42.8</td>\n",
              "      <td>2.0</td>\n",
              "    </tr>\n",
              "    <tr>\n",
              "      <th>174</th>\n",
              "      <td>X4</td>\n",
              "      <td>2019</td>\n",
              "      <td>33998</td>\n",
              "      <td>Semi-Auto</td>\n",
              "      <td>7272</td>\n",
              "      <td>Diesel</td>\n",
              "      <td>150</td>\n",
              "      <td>42.8</td>\n",
              "      <td>2.0</td>\n",
              "    </tr>\n",
              "    <tr>\n",
              "      <th>379</th>\n",
              "      <td>X1</td>\n",
              "      <td>2018</td>\n",
              "      <td>16995</td>\n",
              "      <td>Semi-Auto</td>\n",
              "      <td>17276</td>\n",
              "      <td>Petrol</td>\n",
              "      <td>150</td>\n",
              "      <td>46.3</td>\n",
              "      <td>1.5</td>\n",
              "    </tr>\n",
              "    <tr>\n",
              "      <th>393</th>\n",
              "      <td>X1</td>\n",
              "      <td>2018</td>\n",
              "      <td>16995</td>\n",
              "      <td>Semi-Auto</td>\n",
              "      <td>17276</td>\n",
              "      <td>Petrol</td>\n",
              "      <td>150</td>\n",
              "      <td>46.3</td>\n",
              "      <td>1.5</td>\n",
              "    </tr>\n",
              "    <tr>\n",
              "      <th>643</th>\n",
              "      <td>1 Series</td>\n",
              "      <td>2019</td>\n",
              "      <td>21898</td>\n",
              "      <td>Manual</td>\n",
              "      <td>4100</td>\n",
              "      <td>Petrol</td>\n",
              "      <td>150</td>\n",
              "      <td>41.5</td>\n",
              "      <td>1.5</td>\n",
              "    </tr>\n",
              "    <tr>\n",
              "      <th>...</th>\n",
              "      <td>...</td>\n",
              "      <td>...</td>\n",
              "      <td>...</td>\n",
              "      <td>...</td>\n",
              "      <td>...</td>\n",
              "      <td>...</td>\n",
              "      <td>...</td>\n",
              "      <td>...</td>\n",
              "      <td>...</td>\n",
              "    </tr>\n",
              "    <tr>\n",
              "      <th>9797</th>\n",
              "      <td>4 Series</td>\n",
              "      <td>2019</td>\n",
              "      <td>25449</td>\n",
              "      <td>Automatic</td>\n",
              "      <td>6890</td>\n",
              "      <td>Diesel</td>\n",
              "      <td>145</td>\n",
              "      <td>65.7</td>\n",
              "      <td>2.0</td>\n",
              "    </tr>\n",
              "    <tr>\n",
              "      <th>9939</th>\n",
              "      <td>M3</td>\n",
              "      <td>2009</td>\n",
              "      <td>16950</td>\n",
              "      <td>Manual</td>\n",
              "      <td>65000</td>\n",
              "      <td>Petrol</td>\n",
              "      <td>580</td>\n",
              "      <td>21.9</td>\n",
              "      <td>4.0</td>\n",
              "    </tr>\n",
              "    <tr>\n",
              "      <th>9940</th>\n",
              "      <td>M3</td>\n",
              "      <td>2009</td>\n",
              "      <td>16950</td>\n",
              "      <td>Manual</td>\n",
              "      <td>65000</td>\n",
              "      <td>Petrol</td>\n",
              "      <td>580</td>\n",
              "      <td>21.9</td>\n",
              "      <td>4.0</td>\n",
              "    </tr>\n",
              "    <tr>\n",
              "      <th>9942</th>\n",
              "      <td>3 Series</td>\n",
              "      <td>2013</td>\n",
              "      <td>10985</td>\n",
              "      <td>Automatic</td>\n",
              "      <td>70000</td>\n",
              "      <td>Diesel</td>\n",
              "      <td>165</td>\n",
              "      <td>50.4</td>\n",
              "      <td>2.0</td>\n",
              "    </tr>\n",
              "    <tr>\n",
              "      <th>9943</th>\n",
              "      <td>3 Series</td>\n",
              "      <td>2013</td>\n",
              "      <td>10985</td>\n",
              "      <td>Automatic</td>\n",
              "      <td>70000</td>\n",
              "      <td>Diesel</td>\n",
              "      <td>165</td>\n",
              "      <td>50.4</td>\n",
              "      <td>2.0</td>\n",
              "    </tr>\n",
              "  </tbody>\n",
              "</table>\n",
              "<p>179 rows × 9 columns</p>\n",
              "</div>"
            ],
            "text/plain": [
              "          model  year  price transmission  ...  fuelType  tax   mpg  engineSize\n",
              "173          X4  2019  33998    Semi-Auto  ...    Diesel  150  42.8         2.0\n",
              "174          X4  2019  33998    Semi-Auto  ...    Diesel  150  42.8         2.0\n",
              "379          X1  2018  16995    Semi-Auto  ...    Petrol  150  46.3         1.5\n",
              "393          X1  2018  16995    Semi-Auto  ...    Petrol  150  46.3         1.5\n",
              "643    1 Series  2019  21898       Manual  ...    Petrol  150  41.5         1.5\n",
              "...         ...   ...    ...          ...  ...       ...  ...   ...         ...\n",
              "9797   4 Series  2019  25449    Automatic  ...    Diesel  145  65.7         2.0\n",
              "9939         M3  2009  16950       Manual  ...    Petrol  580  21.9         4.0\n",
              "9940         M3  2009  16950       Manual  ...    Petrol  580  21.9         4.0\n",
              "9942   3 Series  2013  10985    Automatic  ...    Diesel  165  50.4         2.0\n",
              "9943   3 Series  2013  10985    Automatic  ...    Diesel  165  50.4         2.0\n",
              "\n",
              "[179 rows x 9 columns]"
            ]
          },
          "metadata": {
            "tags": []
          },
          "execution_count": 73
        }
      ]
    },
    {
      "cell_type": "code",
      "metadata": {
        "colab": {
          "base_uri": "https://localhost:8080/"
        },
        "id": "I_P5yLDWmQl0",
        "outputId": "0255bb50-7328-4c4e-cca8-bb593220d6e8"
      },
      "source": [
        "# drop duplicate rows and keep \n",
        "df_bmw = df_bmw.drop_duplicates(keep='first').reset_index(drop=True)\n",
        "\n",
        "# remove all whitespace from text data\n",
        "df_bmw['model']=df_bmw['model'].apply(lambda x: x.strip())\n",
        "df_bmw.model.unique()"
      ],
      "execution_count": 74,
      "outputs": [
        {
          "output_type": "execute_result",
          "data": {
            "text/plain": [
              "array(['5 Series', '6 Series', '1 Series', '7 Series', '2 Series',\n",
              "       '4 Series', 'X3', '3 Series', 'X5', 'X4', 'i3', 'X1', 'M4', 'X2',\n",
              "       'X6', '8 Series', 'Z4', 'X7', 'M5', 'i8', 'M2', 'M3', 'M6', 'Z3'],\n",
              "      dtype=object)"
            ]
          },
          "metadata": {
            "tags": []
          },
          "execution_count": 74
        }
      ]
    },
    {
      "cell_type": "markdown",
      "metadata": {
        "id": "wK8amxeEnHZM"
      },
      "source": [
        "# **Exploratory Analysis**\n"
      ]
    },
    {
      "cell_type": "markdown",
      "metadata": {
        "id": "DEtCdEdkACWj"
      },
      "source": [
        "The exploratory analysis contains the following steps:\n",
        "\n",
        "1. profile the dataset, calculate basic stats (min,max,std...) of each features to obtain a high level understanding of the dataset\n",
        "\n",
        "2. visualize the target variable distribution to see if any need transformation is needed\n",
        "\n",
        "3. visualize the relationship between features and target variable to get intution for feature engineer and modeling\n"
      ]
    },
    {
      "cell_type": "code",
      "metadata": {
        "colab": {
          "base_uri": "https://localhost:8080/",
          "height": 293
        },
        "id": "YeN_LTkDUSVJ",
        "outputId": "841b4af3-5672-4916-ed80-eade8eafd4f6"
      },
      "source": [
        "# summary statistics of all columns\n",
        "df_bmw.describe()"
      ],
      "execution_count": 75,
      "outputs": [
        {
          "output_type": "execute_result",
          "data": {
            "text/html": [
              "<div>\n",
              "<style scoped>\n",
              "    .dataframe tbody tr th:only-of-type {\n",
              "        vertical-align: middle;\n",
              "    }\n",
              "\n",
              "    .dataframe tbody tr th {\n",
              "        vertical-align: top;\n",
              "    }\n",
              "\n",
              "    .dataframe thead th {\n",
              "        text-align: right;\n",
              "    }\n",
              "</style>\n",
              "<table border=\"1\" class=\"dataframe\">\n",
              "  <thead>\n",
              "    <tr style=\"text-align: right;\">\n",
              "      <th></th>\n",
              "      <th>year</th>\n",
              "      <th>price</th>\n",
              "      <th>mileage</th>\n",
              "      <th>tax</th>\n",
              "      <th>mpg</th>\n",
              "      <th>engineSize</th>\n",
              "    </tr>\n",
              "  </thead>\n",
              "  <tbody>\n",
              "    <tr>\n",
              "      <th>count</th>\n",
              "      <td>10664.000000</td>\n",
              "      <td>10664.000000</td>\n",
              "      <td>10664.000000</td>\n",
              "      <td>10664.000000</td>\n",
              "      <td>10664.000000</td>\n",
              "      <td>10664.000000</td>\n",
              "    </tr>\n",
              "    <tr>\n",
              "      <th>mean</th>\n",
              "      <td>2017.062828</td>\n",
              "      <td>22692.888691</td>\n",
              "      <td>25710.978995</td>\n",
              "      <td>131.597431</td>\n",
              "      <td>56.483121</td>\n",
              "      <td>2.170161</td>\n",
              "    </tr>\n",
              "    <tr>\n",
              "      <th>std</th>\n",
              "      <td>2.350668</td>\n",
              "      <td>11434.921030</td>\n",
              "      <td>25146.634940</td>\n",
              "      <td>61.611394</td>\n",
              "      <td>31.465604</td>\n",
              "      <td>0.552556</td>\n",
              "    </tr>\n",
              "    <tr>\n",
              "      <th>min</th>\n",
              "      <td>1996.000000</td>\n",
              "      <td>1200.000000</td>\n",
              "      <td>1.000000</td>\n",
              "      <td>0.000000</td>\n",
              "      <td>5.500000</td>\n",
              "      <td>0.000000</td>\n",
              "    </tr>\n",
              "    <tr>\n",
              "      <th>25%</th>\n",
              "      <td>2016.000000</td>\n",
              "      <td>14897.000000</td>\n",
              "      <td>5665.750000</td>\n",
              "      <td>135.000000</td>\n",
              "      <td>45.600000</td>\n",
              "      <td>2.000000</td>\n",
              "    </tr>\n",
              "    <tr>\n",
              "      <th>50%</th>\n",
              "      <td>2017.000000</td>\n",
              "      <td>20261.500000</td>\n",
              "      <td>18783.000000</td>\n",
              "      <td>145.000000</td>\n",
              "      <td>53.300000</td>\n",
              "      <td>2.000000</td>\n",
              "    </tr>\n",
              "    <tr>\n",
              "      <th>75%</th>\n",
              "      <td>2019.000000</td>\n",
              "      <td>27890.000000</td>\n",
              "      <td>38436.500000</td>\n",
              "      <td>145.000000</td>\n",
              "      <td>62.800000</td>\n",
              "      <td>2.000000</td>\n",
              "    </tr>\n",
              "    <tr>\n",
              "      <th>max</th>\n",
              "      <td>2020.000000</td>\n",
              "      <td>123456.000000</td>\n",
              "      <td>214000.000000</td>\n",
              "      <td>580.000000</td>\n",
              "      <td>470.800000</td>\n",
              "      <td>6.600000</td>\n",
              "    </tr>\n",
              "  </tbody>\n",
              "</table>\n",
              "</div>"
            ],
            "text/plain": [
              "               year          price  ...           mpg    engineSize\n",
              "count  10664.000000   10664.000000  ...  10664.000000  10664.000000\n",
              "mean    2017.062828   22692.888691  ...     56.483121      2.170161\n",
              "std        2.350668   11434.921030  ...     31.465604      0.552556\n",
              "min     1996.000000    1200.000000  ...      5.500000      0.000000\n",
              "25%     2016.000000   14897.000000  ...     45.600000      2.000000\n",
              "50%     2017.000000   20261.500000  ...     53.300000      2.000000\n",
              "75%     2019.000000   27890.000000  ...     62.800000      2.000000\n",
              "max     2020.000000  123456.000000  ...    470.800000      6.600000\n",
              "\n",
              "[8 rows x 6 columns]"
            ]
          },
          "metadata": {
            "tags": []
          },
          "execution_count": 75
        }
      ]
    },
    {
      "cell_type": "markdown",
      "metadata": {
        "id": "WpfF3qK4UezD"
      },
      "source": [
        ""
      ]
    },
    {
      "cell_type": "markdown",
      "metadata": {
        "id": "Ob_LSwrV3c_J"
      },
      "source": [
        "**Variable - Price**: boxplot \n",
        "\n",
        "To visualize the distribution of the target variable, boxplots are used in order to observe its central value, spread of distribution and outliers. The central value is observed to be around 20,000 and it only has a few outliers above 80,000, indicating the distribution of the target variable to be approximately normal. Therefore no transformation to the target variable is necessary."
      ]
    },
    {
      "cell_type": "code",
      "metadata": {
        "colab": {
          "base_uri": "https://localhost:8080/",
          "height": 377
        },
        "id": "981nWR84TefF",
        "outputId": "5ae5cd47-fe67-411e-f7da-7054dcda854c"
      },
      "source": [
        "df_bmw_vis=df_bmw.copy()\n",
        "# boxplot for price that indicates the distribution of price\n",
        "plt.figure(figsize=(3,6))\n",
        "sns.boxenplot(y='price',data=df_bmw_vis,showfliers=True).set_title('Boxplot for Price')\n",
        "plt.show()"
      ],
      "execution_count": 76,
      "outputs": [
        {
          "output_type": "display_data",
          "data": {
            "image/png": "[encoded data removed]",
            "text/plain": [
              "<Figure size 216x432 with 1 Axes>"
            ]
          },
          "metadata": {
            "tags": [],
            "needs_background": "light"
          }
        }
      ]
    },
    {
      "cell_type": "markdown",
      "metadata": {
        "id": "Gvc_t9M-Duvi"
      },
      "source": [
        "\n",
        "\n",
        "**Variable - Model** summary table, car model plot, ridgeline plot for TOP 10 popular BMW used cars\n",
        "\n",
        "Through statistics summary table, the total number of BMW used cars and average price per model can be calculated. The reason ridge plot is used here is that it helps compare the distribution of various models' price. According to the plot, there is an ordinal relationship between both the model category (e.g. X series in X3) and model id (e.g. 5 in model M5). Based on this observation,the model column is divided into two columns, one is the model category(str: Series, X, M, i or Z) and the other is the model id (1,2,3 ... 8). These 2 features are manually created as categorical variables because there might exist an implicit relationship between model categories and model ids that determine the market value of an used car. For example, model category = i implies BMW's eletric vehicle series, which is likely to drive up the market value. Additionally, since both variables are one-hot-encoded, splitting model category and id can reduce the dimensionality of the dataset.\n"
      ]
    },
    {
      "cell_type": "code",
      "metadata": {
        "colab": {
          "base_uri": "https://localhost:8080/",
          "height": 781
        },
        "id": "0O-CsI-gEhgg",
        "outputId": "c73d3a13-1d5e-4824-8f60-5927d90b2c1c"
      },
      "source": [
        "# summary table for all models, their number of cars, and average price for each model\n",
        "model_table=df_bmw_vis.groupby('model')['price'].agg(['count','mean']).sort_values(['count'],ascending=False).reset_index()\n",
        "model_table"
      ],
      "execution_count": 77,
      "outputs": [
        {
          "output_type": "execute_result",
          "data": {
            "text/html": [
              "<div>\n",
              "<style scoped>\n",
              "    .dataframe tbody tr th:only-of-type {\n",
              "        vertical-align: middle;\n",
              "    }\n",
              "\n",
              "    .dataframe tbody tr th {\n",
              "        vertical-align: top;\n",
              "    }\n",
              "\n",
              "    .dataframe thead th {\n",
              "        text-align: right;\n",
              "    }\n",
              "</style>\n",
              "<table border=\"1\" class=\"dataframe\">\n",
              "  <thead>\n",
              "    <tr style=\"text-align: right;\">\n",
              "      <th></th>\n",
              "      <th>model</th>\n",
              "      <th>count</th>\n",
              "      <th>mean</th>\n",
              "    </tr>\n",
              "  </thead>\n",
              "  <tbody>\n",
              "    <tr>\n",
              "      <th>0</th>\n",
              "      <td>3 Series</td>\n",
              "      <td>2434</td>\n",
              "      <td>19851.691044</td>\n",
              "    </tr>\n",
              "    <tr>\n",
              "      <th>1</th>\n",
              "      <td>1 Series</td>\n",
              "      <td>1962</td>\n",
              "      <td>15810.910805</td>\n",
              "    </tr>\n",
              "    <tr>\n",
              "      <th>2</th>\n",
              "      <td>2 Series</td>\n",
              "      <td>1188</td>\n",
              "      <td>19445.345118</td>\n",
              "    </tr>\n",
              "    <tr>\n",
              "      <th>3</th>\n",
              "      <td>5 Series</td>\n",
              "      <td>1051</td>\n",
              "      <td>22496.283539</td>\n",
              "    </tr>\n",
              "    <tr>\n",
              "      <th>4</th>\n",
              "      <td>4 Series</td>\n",
              "      <td>986</td>\n",
              "      <td>22441.975659</td>\n",
              "    </tr>\n",
              "    <tr>\n",
              "      <th>5</th>\n",
              "      <td>X1</td>\n",
              "      <td>797</td>\n",
              "      <td>19835.963614</td>\n",
              "    </tr>\n",
              "    <tr>\n",
              "      <th>6</th>\n",
              "      <td>X3</td>\n",
              "      <td>550</td>\n",
              "      <td>27742.525455</td>\n",
              "    </tr>\n",
              "    <tr>\n",
              "      <th>7</th>\n",
              "      <td>X5</td>\n",
              "      <td>464</td>\n",
              "      <td>39559.471983</td>\n",
              "    </tr>\n",
              "    <tr>\n",
              "      <th>8</th>\n",
              "      <td>X2</td>\n",
              "      <td>261</td>\n",
              "      <td>28526.808429</td>\n",
              "    </tr>\n",
              "    <tr>\n",
              "      <th>9</th>\n",
              "      <td>X4</td>\n",
              "      <td>177</td>\n",
              "      <td>32630.740113</td>\n",
              "    </tr>\n",
              "    <tr>\n",
              "      <th>10</th>\n",
              "      <td>M4</td>\n",
              "      <td>122</td>\n",
              "      <td>43277.303279</td>\n",
              "    </tr>\n",
              "    <tr>\n",
              "      <th>11</th>\n",
              "      <td>6 Series</td>\n",
              "      <td>108</td>\n",
              "      <td>24354.370370</td>\n",
              "    </tr>\n",
              "    <tr>\n",
              "      <th>12</th>\n",
              "      <td>Z4</td>\n",
              "      <td>107</td>\n",
              "      <td>26919.242991</td>\n",
              "    </tr>\n",
              "    <tr>\n",
              "      <th>13</th>\n",
              "      <td>7 Series</td>\n",
              "      <td>106</td>\n",
              "      <td>36934.320755</td>\n",
              "    </tr>\n",
              "    <tr>\n",
              "      <th>14</th>\n",
              "      <td>X6</td>\n",
              "      <td>106</td>\n",
              "      <td>43838.613208</td>\n",
              "    </tr>\n",
              "    <tr>\n",
              "      <th>15</th>\n",
              "      <td>X7</td>\n",
              "      <td>55</td>\n",
              "      <td>69842.763636</td>\n",
              "    </tr>\n",
              "    <tr>\n",
              "      <th>16</th>\n",
              "      <td>i3</td>\n",
              "      <td>43</td>\n",
              "      <td>18667.116279</td>\n",
              "    </tr>\n",
              "    <tr>\n",
              "      <th>17</th>\n",
              "      <td>8 Series</td>\n",
              "      <td>39</td>\n",
              "      <td>63997.794872</td>\n",
              "    </tr>\n",
              "    <tr>\n",
              "      <th>18</th>\n",
              "      <td>M5</td>\n",
              "      <td>29</td>\n",
              "      <td>57760.000000</td>\n",
              "    </tr>\n",
              "    <tr>\n",
              "      <th>19</th>\n",
              "      <td>M3</td>\n",
              "      <td>26</td>\n",
              "      <td>30740.538462</td>\n",
              "    </tr>\n",
              "    <tr>\n",
              "      <th>20</th>\n",
              "      <td>M2</td>\n",
              "      <td>21</td>\n",
              "      <td>43140.333333</td>\n",
              "    </tr>\n",
              "    <tr>\n",
              "      <th>21</th>\n",
              "      <td>i8</td>\n",
              "      <td>17</td>\n",
              "      <td>57012.588235</td>\n",
              "    </tr>\n",
              "    <tr>\n",
              "      <th>22</th>\n",
              "      <td>M6</td>\n",
              "      <td>8</td>\n",
              "      <td>32190.000000</td>\n",
              "    </tr>\n",
              "    <tr>\n",
              "      <th>23</th>\n",
              "      <td>Z3</td>\n",
              "      <td>7</td>\n",
              "      <td>5826.428571</td>\n",
              "    </tr>\n",
              "  </tbody>\n",
              "</table>\n",
              "</div>"
            ],
            "text/plain": [
              "       model  count          mean\n",
              "0   3 Series   2434  19851.691044\n",
              "1   1 Series   1962  15810.910805\n",
              "2   2 Series   1188  19445.345118\n",
              "3   5 Series   1051  22496.283539\n",
              "4   4 Series    986  22441.975659\n",
              "5         X1    797  19835.963614\n",
              "6         X3    550  27742.525455\n",
              "7         X5    464  39559.471983\n",
              "8         X2    261  28526.808429\n",
              "9         X4    177  32630.740113\n",
              "10        M4    122  43277.303279\n",
              "11  6 Series    108  24354.370370\n",
              "12        Z4    107  26919.242991\n",
              "13  7 Series    106  36934.320755\n",
              "14        X6    106  43838.613208\n",
              "15        X7     55  69842.763636\n",
              "16        i3     43  18667.116279\n",
              "17  8 Series     39  63997.794872\n",
              "18        M5     29  57760.000000\n",
              "19        M3     26  30740.538462\n",
              "20        M2     21  43140.333333\n",
              "21        i8     17  57012.588235\n",
              "22        M6      8  32190.000000\n",
              "23        Z3      7   5826.428571"
            ]
          },
          "metadata": {
            "tags": []
          },
          "execution_count": 77
        }
      ]
    },
    {
      "cell_type": "code",
      "metadata": {
        "colab": {
          "base_uri": "https://localhost:8080/",
          "height": 513
        },
        "id": "HqhXqas_oxd0",
        "outputId": "c050fa9a-6219-4b35-8b6e-1f3447d1ea4e"
      },
      "source": [
        "# model type plot based on number of cars\n",
        "plt.figure(figsize=(18,8))\n",
        "sns.countplot(data=df_bmw_vis,x='model',order=df_bmw_vis['model'].value_counts().index, color='blue')\n",
        "plt.xlabel('Model')\n",
        "plt.ylabel('Number of Cars')\n",
        "plt.title('TOP 10 Popular BMW used cars')\n",
        "plt.show()"
      ],
      "execution_count": 78,
      "outputs": [
        {
          "output_type": "display_data",
          "data": {
            "image/png": "[encoded data removed]",
            "text/plain": [
              "<Figure size 1296x576 with 1 Axes>"
            ]
          },
          "metadata": {
            "tags": [],
            "needs_background": "light"
          }
        }
      ]
    },
    {
      "cell_type": "code",
      "metadata": {
        "colab": {
          "base_uri": "https://localhost:8080/"
        },
        "id": "P0X_cmPzpeyy",
        "outputId": "8a488cdf-ea3f-4df4-8769-5191396c4a5b"
      },
      "source": [
        "# get the top 10 popular models by number of cars \n",
        "model_list=model_table.model.unique()[:10]\n",
        "model_list"
      ],
      "execution_count": 79,
      "outputs": [
        {
          "output_type": "execute_result",
          "data": {
            "text/plain": [
              "array(['3 Series', '1 Series', '2 Series', '5 Series', '4 Series', 'X1',\n",
              "       'X3', 'X5', 'X2', 'X4'], dtype=object)"
            ]
          },
          "metadata": {
            "tags": []
          },
          "execution_count": 79
        }
      ]
    },
    {
      "cell_type": "code",
      "metadata": {
        "colab": {
          "base_uri": "https://localhost:8080/",
          "height": 294
        },
        "id": "6mWsBbXXyhLb",
        "outputId": "d3155d3c-ccc3-4bd9-dafc-d873ad110b44"
      },
      "source": [
        "# ridgeline plot for TOP 10 popular used car models\n",
        "df_bmw_vis_subset=df_bmw_vis.loc[df_bmw_vis['model'].isin(model_list)]\n",
        "fig,ax=joypy.joyplot(data=df_bmw_vis_subset,by='model',column=['price'],alpha=1,\n",
        "                     title='TOP 10 popular BMW used car model',x_range=[0,100000])\n"
      ],
      "execution_count": 80,
      "outputs": [
        {
          "output_type": "display_data",
          "data": {
            "image/png": "[encoded data removed]",
            "text/plain": [
              "<Figure size 432x288 with 11 Axes>"
            ]
          },
          "metadata": {
            "tags": [],
            "needs_background": "light"
          }
        }
      ]
    },
    {
      "cell_type": "markdown",
      "metadata": {
        "id": "HmvY-NC0OWYe"
      },
      "source": [
        "\n",
        "Density plot is used to show and compare the distrbutions of different transmissions' prices. Compared to ridgeplot, density plot can better reflect the overlapping area between different transmission types. As observed from this plot, there is a high degree of overlap between 3 types of transmission."
      ]
    },
    {
      "cell_type": "code",
      "metadata": {
        "colab": {
          "base_uri": "https://localhost:8080/",
          "height": 391
        },
        "id": "9A6CMmEIjRtC",
        "outputId": "affcb5b2-52c9-4e01-ef40-1dce989bd7fa"
      },
      "source": [
        "sns.displot(df_bmw_vis,x='price',hue='transmission',kind='kde',aspect=2,height=5,fill=True)\n",
        "\n",
        "# Plot formatting\n",
        "plt.title('Density Plot with Multiple Transmissions')\n",
        "plt.xlabel('Price)')\n",
        "plt.ylabel('Density')"
      ],
      "execution_count": 81,
      "outputs": [
        {
          "output_type": "execute_result",
          "data": {
            "text/plain": [
              "Text(4.386601562499997, 0.5, 'Density')"
            ]
          },
          "metadata": {
            "tags": []
          },
          "execution_count": 81
        },
        {
          "output_type": "display_data",
          "data": {
            "image/png": "[encoded data removed]",
            "text/plain": [
              "<Figure size 807.375x360 with 1 Axes>"
            ]
          },
          "metadata": {
            "tags": [],
            "needs_background": "light"
          }
        }
      ]
    },
    {
      "cell_type": "markdown",
      "metadata": {
        "id": "lQaN7dgKQN19"
      },
      "source": [
        "\n",
        "\n",
        "**Variable Fueltype**: ridgeline plot\n",
        "\n",
        "Since the distributions of prices among fuel type tend to be not as similar as those of transmission, ridgeline plots are used to visualize them. As can be observed from the ridgeline plot, the widthes of the peak for each fuel type vary, for example, electric-fueled vehicles have much smaller variance in price when compared with that of hybrid. It can also be observed that omitting other variables, hybrid and petro-fueled vehicles have similar distribution of market price."
      ]
    },
    {
      "cell_type": "code",
      "metadata": {
        "colab": {
          "base_uri": "https://localhost:8080/",
          "height": 296
        },
        "id": "8jFEUK9QkFhL",
        "outputId": "73b22815-0688-4e8c-e0ca-2c4745e94514"
      },
      "source": [
        "fig,ax=joypy.joyplot(data=df_bmw_vis,by='fuelType',column=['price'],alpha=0.5,\n",
        "                     title='Price distribution by fuel type',x_range=[0,100000])\n"
      ],
      "execution_count": 82,
      "outputs": [
        {
          "output_type": "display_data",
          "data": {
            "image/png": "[encoded data removed]",
            "text/plain": [
              "<Figure size 432x288 with 6 Axes>"
            ]
          },
          "metadata": {
            "tags": [],
            "needs_background": "light"
          }
        }
      ]
    },
    {
      "cell_type": "markdown",
      "metadata": {
        "id": "ZFQzZ61dQphK"
      },
      "source": [
        "\n",
        "\n",
        "**Variable - Year**: summary table, ridgeline plot for BMW used cars price between 2010 and 2020\n",
        "\n",
        "Summary table is used to show the relationship between the year of a used car and the average price of it. It also shows the sample size for each year in the count column.\n",
        "\n",
        "In addition to the summary table, ridgeline plots are used to visualize the distribution of price in relation to the car year. It is be observed that cars from an earlier year usually have a cheaper market price. Furthermore, cars from an earlier year also show a smaller variance of their price distribution.In other words, older cars tend to have a more fixed range of price despite other conditions while newer cars has more uncertainty in price which can be caused by car accidents, change in market taste and etc."
      ]
    },
    {
      "cell_type": "code",
      "metadata": {
        "colab": {
          "base_uri": "https://localhost:8080/",
          "height": 812
        },
        "id": "epNSW5rBkFon",
        "outputId": "9170f92c-d04f-4097-ea12-1d2c2d4a3c50"
      },
      "source": [
        "year_table=df_bmw_vis.groupby('year')['price'].agg(['sum','count','mean']).sort_values(['count'],ascending=False).reset_index()\n",
        "year_table"
      ],
      "execution_count": 83,
      "outputs": [
        {
          "output_type": "execute_result",
          "data": {
            "text/html": [
              "<div>\n",
              "<style scoped>\n",
              "    .dataframe tbody tr th:only-of-type {\n",
              "        vertical-align: middle;\n",
              "    }\n",
              "\n",
              "    .dataframe tbody tr th {\n",
              "        vertical-align: top;\n",
              "    }\n",
              "\n",
              "    .dataframe thead th {\n",
              "        text-align: right;\n",
              "    }\n",
              "</style>\n",
              "<table border=\"1\" class=\"dataframe\">\n",
              "  <thead>\n",
              "    <tr style=\"text-align: right;\">\n",
              "      <th></th>\n",
              "      <th>year</th>\n",
              "      <th>sum</th>\n",
              "      <th>count</th>\n",
              "      <th>mean</th>\n",
              "    </tr>\n",
              "  </thead>\n",
              "  <tbody>\n",
              "    <tr>\n",
              "      <th>0</th>\n",
              "      <td>2019</td>\n",
              "      <td>105657839</td>\n",
              "      <td>3396</td>\n",
              "      <td>31112.437868</td>\n",
              "    </tr>\n",
              "    <tr>\n",
              "      <th>1</th>\n",
              "      <td>2016</td>\n",
              "      <td>31230984</td>\n",
              "      <td>1877</td>\n",
              "      <td>16638.776771</td>\n",
              "    </tr>\n",
              "    <tr>\n",
              "      <th>2</th>\n",
              "      <td>2017</td>\n",
              "      <td>33106909</td>\n",
              "      <td>1718</td>\n",
              "      <td>19270.610594</td>\n",
              "    </tr>\n",
              "    <tr>\n",
              "      <th>3</th>\n",
              "      <td>2015</td>\n",
              "      <td>14005683</td>\n",
              "      <td>921</td>\n",
              "      <td>15207.039088</td>\n",
              "    </tr>\n",
              "    <tr>\n",
              "      <th>4</th>\n",
              "      <td>2018</td>\n",
              "      <td>19230380</td>\n",
              "      <td>846</td>\n",
              "      <td>22730.945626</td>\n",
              "    </tr>\n",
              "    <tr>\n",
              "      <th>5</th>\n",
              "      <td>2020</td>\n",
              "      <td>25559032</td>\n",
              "      <td>722</td>\n",
              "      <td>35400.321330</td>\n",
              "    </tr>\n",
              "    <tr>\n",
              "      <th>6</th>\n",
              "      <td>2014</td>\n",
              "      <td>6640704</td>\n",
              "      <td>498</td>\n",
              "      <td>13334.746988</td>\n",
              "    </tr>\n",
              "    <tr>\n",
              "      <th>7</th>\n",
              "      <td>2013</td>\n",
              "      <td>3949278</td>\n",
              "      <td>355</td>\n",
              "      <td>11124.726761</td>\n",
              "    </tr>\n",
              "    <tr>\n",
              "      <th>8</th>\n",
              "      <td>2012</td>\n",
              "      <td>1134509</td>\n",
              "      <td>119</td>\n",
              "      <td>9533.689076</td>\n",
              "    </tr>\n",
              "    <tr>\n",
              "      <th>9</th>\n",
              "      <td>2011</td>\n",
              "      <td>464054</td>\n",
              "      <td>51</td>\n",
              "      <td>9099.098039</td>\n",
              "    </tr>\n",
              "    <tr>\n",
              "      <th>10</th>\n",
              "      <td>2010</td>\n",
              "      <td>307106</td>\n",
              "      <td>41</td>\n",
              "      <td>7490.390244</td>\n",
              "    </tr>\n",
              "    <tr>\n",
              "      <th>11</th>\n",
              "      <td>2009</td>\n",
              "      <td>181593</td>\n",
              "      <td>29</td>\n",
              "      <td>6261.827586</td>\n",
              "    </tr>\n",
              "    <tr>\n",
              "      <th>12</th>\n",
              "      <td>2008</td>\n",
              "      <td>143521</td>\n",
              "      <td>23</td>\n",
              "      <td>6240.043478</td>\n",
              "    </tr>\n",
              "    <tr>\n",
              "      <th>13</th>\n",
              "      <td>2007</td>\n",
              "      <td>77288</td>\n",
              "      <td>16</td>\n",
              "      <td>4830.500000</td>\n",
              "    </tr>\n",
              "    <tr>\n",
              "      <th>14</th>\n",
              "      <td>2006</td>\n",
              "      <td>73538</td>\n",
              "      <td>14</td>\n",
              "      <td>5252.714286</td>\n",
              "    </tr>\n",
              "    <tr>\n",
              "      <th>15</th>\n",
              "      <td>2004</td>\n",
              "      <td>98558</td>\n",
              "      <td>12</td>\n",
              "      <td>8213.166667</td>\n",
              "    </tr>\n",
              "    <tr>\n",
              "      <th>16</th>\n",
              "      <td>2005</td>\n",
              "      <td>32341</td>\n",
              "      <td>6</td>\n",
              "      <td>5390.166667</td>\n",
              "    </tr>\n",
              "    <tr>\n",
              "      <th>17</th>\n",
              "      <td>2002</td>\n",
              "      <td>32919</td>\n",
              "      <td>6</td>\n",
              "      <td>5486.500000</td>\n",
              "    </tr>\n",
              "    <tr>\n",
              "      <th>18</th>\n",
              "      <td>1999</td>\n",
              "      <td>13140</td>\n",
              "      <td>4</td>\n",
              "      <td>3285.000000</td>\n",
              "    </tr>\n",
              "    <tr>\n",
              "      <th>19</th>\n",
              "      <td>2001</td>\n",
              "      <td>22000</td>\n",
              "      <td>3</td>\n",
              "      <td>7333.333333</td>\n",
              "    </tr>\n",
              "    <tr>\n",
              "      <th>20</th>\n",
              "      <td>2003</td>\n",
              "      <td>18445</td>\n",
              "      <td>2</td>\n",
              "      <td>9222.500000</td>\n",
              "    </tr>\n",
              "    <tr>\n",
              "      <th>21</th>\n",
              "      <td>2000</td>\n",
              "      <td>3249</td>\n",
              "      <td>2</td>\n",
              "      <td>1624.500000</td>\n",
              "    </tr>\n",
              "    <tr>\n",
              "      <th>22</th>\n",
              "      <td>1997</td>\n",
              "      <td>3950</td>\n",
              "      <td>1</td>\n",
              "      <td>3950.000000</td>\n",
              "    </tr>\n",
              "    <tr>\n",
              "      <th>23</th>\n",
              "      <td>1998</td>\n",
              "      <td>3950</td>\n",
              "      <td>1</td>\n",
              "      <td>3950.000000</td>\n",
              "    </tr>\n",
              "    <tr>\n",
              "      <th>24</th>\n",
              "      <td>1996</td>\n",
              "      <td>5995</td>\n",
              "      <td>1</td>\n",
              "      <td>5995.000000</td>\n",
              "    </tr>\n",
              "  </tbody>\n",
              "</table>\n",
              "</div>"
            ],
            "text/plain": [
              "    year        sum  count          mean\n",
              "0   2019  105657839   3396  31112.437868\n",
              "1   2016   31230984   1877  16638.776771\n",
              "2   2017   33106909   1718  19270.610594\n",
              "3   2015   14005683    921  15207.039088\n",
              "4   2018   19230380    846  22730.945626\n",
              "5   2020   25559032    722  35400.321330\n",
              "6   2014    6640704    498  13334.746988\n",
              "7   2013    3949278    355  11124.726761\n",
              "8   2012    1134509    119   9533.689076\n",
              "9   2011     464054     51   9099.098039\n",
              "10  2010     307106     41   7490.390244\n",
              "11  2009     181593     29   6261.827586\n",
              "12  2008     143521     23   6240.043478\n",
              "13  2007      77288     16   4830.500000\n",
              "14  2006      73538     14   5252.714286\n",
              "15  2004      98558     12   8213.166667\n",
              "16  2005      32341      6   5390.166667\n",
              "17  2002      32919      6   5486.500000\n",
              "18  1999      13140      4   3285.000000\n",
              "19  2001      22000      3   7333.333333\n",
              "20  2003      18445      2   9222.500000\n",
              "21  2000       3249      2   1624.500000\n",
              "22  1997       3950      1   3950.000000\n",
              "23  1998       3950      1   3950.000000\n",
              "24  1996       5995      1   5995.000000"
            ]
          },
          "metadata": {
            "tags": []
          },
          "execution_count": 83
        }
      ]
    },
    {
      "cell_type": "code",
      "metadata": {
        "colab": {
          "base_uri": "https://localhost:8080/",
          "height": 294
        },
        "id": "OypshscokFuz",
        "outputId": "0b1bf8b7-d656-4c9d-d271-24c4f48e7952"
      },
      "source": [
        "# distribution of price for ten years \n",
        "ten_year_list=year_table.year.unique()[:10]\n",
        "df_bmw_vis_year=df_bmw_vis.loc[df_bmw_vis['year'].isin(ten_year_list)].copy()\n",
        "fig,ax=joypy.joyplot(data=df_bmw_vis_year,by='year',column=['price'],alpha=0.5,\n",
        "                    title='BMW used cars price between 2010 and 2020',\n",
        "                     x_range=[0,100000])\n"
      ],
      "execution_count": 84,
      "outputs": [
        {
          "output_type": "display_data",
          "data": {
            "image/png": "[encoded data removed]",
            "text/plain": [
              "<Figure size 432x288 with 11 Axes>"
            ]
          },
          "metadata": {
            "tags": [],
            "needs_background": "light"
          }
        }
      ]
    },
    {
      "cell_type": "markdown",
      "metadata": {
        "id": "i_XMd5vtcQTm"
      },
      "source": [
        "**Variable - Tax**:\n",
        "It was observed that tax variable has less variance, so it is unlikely that it will be a powerful predictor."
      ]
    },
    {
      "cell_type": "code",
      "metadata": {
        "colab": {
          "base_uri": "https://localhost:8080/",
          "height": 295
        },
        "id": "PryiyeqytPJ6",
        "outputId": "c8dd1158-bb5d-48ba-eb54-0311ce2a9b44"
      },
      "source": [
        "sns.histplot(data=df_bmw_vis,x='tax',bins=50,kde=True,weights=8).set_title('tax distrbution')\n",
        "\n",
        "plt.show()"
      ],
      "execution_count": 85,
      "outputs": [
        {
          "output_type": "display_data",
          "data": {
            "image/png": "[encoded data removed]",
            "text/plain": [
              "<Figure size 432x288 with 1 Axes>"
            ]
          },
          "metadata": {
            "tags": [],
            "needs_background": "light"
          }
        }
      ]
    },
    {
      "cell_type": "markdown",
      "metadata": {
        "id": "w5C8MtIKVMZS"
      },
      "source": [
        "Here the 2 additional feature based on model type are generated as described above:"
      ]
    },
    {
      "cell_type": "code",
      "metadata": {
        "id": "hjcFiugDsYwW"
      },
      "source": [
        "df_bmw['model_category'] = df_bmw['model'].apply(lambda x: ''.join(re.findall(\"[a-zA-Z]+\",x)))\n",
        "df_bmw['model_id'] = df_bmw['model'].apply(lambda x: int(''.join(re.findall(r'\\d+',x))))\n",
        "df_bmw['car_age'] = 2021 - df_bmw['year']"
      ],
      "execution_count": 86,
      "outputs": []
    },
    {
      "cell_type": "markdown",
      "metadata": {
        "id": "rPXnqHYxX9ck"
      },
      "source": [
        "# **Model**"
      ]
    },
    {
      "cell_type": "markdown",
      "metadata": {
        "id": "UP1dS5syDWA7"
      },
      "source": [
        "This section contains the following steps:\n",
        "\n",
        "1. define features and target variable clearly\n",
        "\n",
        "2. perform train-test split on the whole dataset\n",
        "\n",
        "3. perform appropiate scaling and encoding on features\n",
        "\n",
        "4. grid search the model using 5-fold cross validation\n",
        "* For each model with specific model hyperparameter set, 4 among 5 cross validation set is used to fit and the one left is used to validate and measure using RMSE as the accuracy metric since it is assumed that the utility for each customer of equal amount of money is the same. Then the 5 RMSE values are averaged to be compared with other models in order to select for the optimal.\n",
        "\n",
        "5. visualize each model's average RMSE and select the best model with the best accuracy performance\n",
        "\n",
        "6. refit using the complete training set and evaluate using the untouched test set\n",
        "\n",
        "7. plot the feature importance for the best model to obtain better understanding of the model "
      ]
    },
    {
      "cell_type": "code",
      "metadata": {
        "id": "KFyNAA7FpobZ"
      },
      "source": [
        "feature_cols = ['car_age','transmission','mileage','tax','mpg','engineSize','fuelType','model_category','model_id']\n",
        "target_col = ['price']"
      ],
      "execution_count": 87,
      "outputs": []
    },
    {
      "cell_type": "code",
      "metadata": {
        "id": "x2yJIPJ6pq7b"
      },
      "source": [
        "X = df_bmw[feature_cols]\n",
        "y = df_bmw[target_col]"
      ],
      "execution_count": 88,
      "outputs": []
    },
    {
      "cell_type": "code",
      "metadata": {
        "id": "v_GSjGXOprSl"
      },
      "source": [
        "X_train, X_test, y_train, y_test = train_test_split(X, y, random_state=22)\n",
        "input_data = [X_train, X_test, y_train, y_test]"
      ],
      "execution_count": 89,
      "outputs": []
    },
    {
      "cell_type": "markdown",
      "metadata": {
        "id": "OFh0X-0TI2JX"
      },
      "source": [
        "**Scikitlearn's column transformer & pipeline to provide a clear view of the work flow inside the models.**\n",
        "\n",
        "**The function `pipeline_model` does**\n",
        "\n",
        "1) transforms input features\n",
        "\n",
        "2) cross validation on the training set to tune hyperparameters\n",
        "\n",
        "3) valid model on testing set using `rmse`\n",
        "\n"
      ]
    },
    {
      "cell_type": "markdown",
      "metadata": {
        "id": "dOa_yNi2piRu"
      },
      "source": [
        "***Discussion about preprocessing step:***\n",
        "\n",
        "*Since it was observed the numerical features have a distribution that is closed to  normal distribution, standard scaler was applied to scale all numerical features.*\n",
        "\n",
        "*One-hot encoding is used to transform categorical variable. The first encoded category is removed to avoid co-linearity* "
      ]
    },
    {
      "cell_type": "code",
      "metadata": {
        "id": "27SchzR1p0jL"
      },
      "source": [
        "def pipeline_model(model,input_data_list,parameter_grid):\n",
        "    \"\"\"\n",
        "    model: a scikitlearn regressor\n",
        "    input_data_list: [X_train, X_test, y_train, y_test]\n",
        "    parameter_grid: do we need to use cross validation to tune hyperparameters\n",
        "    \"\"\"\n",
        "    X_train, X_test, y_train, y_test = input_data_list\n",
        "    column_transform = ColumnTransformer(\n",
        "      [(\"standardscaler\",StandardScaler(), [0,2,3,4,5]),\n",
        "       (\"onehotencoder\",OneHotEncoder(drop='first'), [1,6,7,8]),\n",
        "       ])\n",
        "    pipe = Pipeline(steps = [('preprocessor', column_transform),\n",
        "                               ('model',model)],\n",
        "                                verbose=True) # tranforms input features\n",
        "  \n",
        "    cv = GridSearchCV(pipe, parameter_grid, n_jobs=-1,refit=True,scoring='neg_mean_squared_error', cv = ShuffleSplit(n_splits=5,random_state=12))\n",
        "    # NOTE: the refit = True, which means the best estimator will re_train on entire training set\n",
        "    \n",
        "    cv.fit(X_train,y_train)# crossvalidate on training set -> select best estimators -> retrain on training set\n",
        "\n",
        "    pred = cv.predict(X_test)# predict on testing set to report model RMSE score\n",
        "    rmse = mean_squared_error(y_test,pred,squared=False)\n",
        "\n",
        "    print(f'rmse is {rmse} \\n using model {model}')\n",
        "    return cv,(-cv.best_score_)**0.5,rmse \n"
      ],
      "execution_count": 90,
      "outputs": []
    },
    {
      "cell_type": "markdown",
      "metadata": {
        "id": "DNZsc9ajRB0k"
      },
      "source": [
        "## Train and Test 4 different Models"
      ]
    },
    {
      "cell_type": "markdown",
      "metadata": {
        "id": "aRj-zAK4d5wk"
      },
      "source": [
        "### Statistical Model: Linear Regression"
      ]
    },
    {
      "cell_type": "markdown",
      "metadata": {
        "id": "rNul2PGTc_wm"
      },
      "source": [
        "Linear regression analysis is performed for: 1) it can be used as a fast baseline model for comparison with more complex models 2) its analysis results can be easily interpreted as multiple hypothesis testing"
      ]
    },
    {
      "cell_type": "markdown",
      "metadata": {
        "id": "kN3iwX34K3j0"
      },
      "source": [
        "To obtain a statistical result on Linear Regression, `statsmodels` is used instead of scikit-learn. Therefore, scikit-learn pipeline cannot be used and a seperate column_transformer is built here.\n",
        "\n"
      ]
    },
    {
      "cell_type": "code",
      "metadata": {
        "id": "mvCEc2EadkoU"
      },
      "source": [
        "column_transform = ColumnTransformer(\n",
        "    [ (\"standardscaler\",StandardScaler(), [0,2,3,4,5]),\n",
        "      (\"onehotencoder\",OneHotEncoder(drop='first',sparse=False), [1,6,7,8]), \n",
        "     # Apply one_hot encoding to deal with categorical variable, standarize the numerical variable (not necessary in linear regression)\n",
        "    ])\n",
        "\n",
        "X_train_reg = column_transform.fit_transform(X_train)"
      ],
      "execution_count": 91,
      "outputs": []
    },
    {
      "cell_type": "code",
      "metadata": {
        "colab": {
          "base_uri": "https://localhost:8080/"
        },
        "id": "5CAHv_6UfJ_v",
        "outputId": "a1b3762d-d573-45f7-c413-5f45b2fbee7a"
      },
      "source": [
        "one_hot_categories = column_transform.transformers_[1][1].categories_ \n",
        "print(one_hot_categories)# print it from OneHotEncoder Category Attributes\n",
        "# Manually organize these columns\n",
        "one_hot_cols = ['transmission','fuelType','model_category','model_id']\n",
        "one_hot_col_names = []\n",
        "for ohc,ohc_ls in zip(one_hot_cols,one_hot_categories):\n",
        "    one_hot_col_names.extend([ohc+'_'+str(x) for x in ohc_ls[1:]])  # here we drop the first category to avoid colinearity problem\n",
        "entire_col_ls = feature_cols + one_hot_col_names\n",
        "for col in ['transmission','fuelType','model_category','model_id']:\n",
        "    entire_col_ls.remove(col)\n",
        "# show all feature columns \n",
        "entire_col_ls"
      ],
      "execution_count": 92,
      "outputs": [
        {
          "output_type": "stream",
          "text": [
            "[array(['Automatic', 'Manual', 'Semi-Auto'], dtype=object), array(['Diesel', 'Electric', 'Hybrid', 'Other', 'Petrol'], dtype=object), array(['M', 'Series', 'X', 'Z', 'i'], dtype=object), array([1, 2, 3, 4, 5, 6, 7, 8], dtype=int64)]\n"
          ],
          "name": "stdout"
        },
        {
          "output_type": "execute_result",
          "data": {
            "text/plain": [
              "['car_age',\n",
              " 'mileage',\n",
              " 'tax',\n",
              " 'mpg',\n",
              " 'engineSize',\n",
              " 'transmission_Manual',\n",
              " 'transmission_Semi-Auto',\n",
              " 'fuelType_Electric',\n",
              " 'fuelType_Hybrid',\n",
              " 'fuelType_Other',\n",
              " 'fuelType_Petrol',\n",
              " 'model_category_Series',\n",
              " 'model_category_X',\n",
              " 'model_category_Z',\n",
              " 'model_category_i',\n",
              " 'model_id_2',\n",
              " 'model_id_3',\n",
              " 'model_id_4',\n",
              " 'model_id_5',\n",
              " 'model_id_6',\n",
              " 'model_id_7',\n",
              " 'model_id_8']"
            ]
          },
          "metadata": {
            "tags": []
          },
          "execution_count": 92
        }
      ]
    },
    {
      "cell_type": "code",
      "metadata": {
        "id": "0RWzZsrYfHsv"
      },
      "source": [
        "df_train_reg = pd.DataFrame(X_train_reg)\n",
        "df_train_reg.columns = entire_col_ls# add the names to dataframe columns\n"
      ],
      "execution_count": 93,
      "outputs": []
    },
    {
      "cell_type": "markdown",
      "metadata": {
        "id": "bHwnYH1Isfab"
      },
      "source": [
        "Here it is hypothesized that all features can influence the price. Thus linear regression analysis can be used to evaluate the feature significance."
      ]
    },
    {
      "cell_type": "code",
      "metadata": {
        "colab": {
          "base_uri": "https://localhost:8080/"
        },
        "id": "2uz2Hpz3ed6K",
        "outputId": "01ead61f-bb13-456c-e436-e7cbe81be59b"
      },
      "source": [
        "lr = sm.OLS(y_train.reset_index(drop=True), sm.add_constant(df_train_reg))\n",
        "lr_model = lr.fit()\n",
        "print(lr_model.summary())"
      ],
      "execution_count": 94,
      "outputs": [
        {
          "output_type": "stream",
          "text": [
            "                            OLS Regression Results                            \n",
            "==============================================================================\n",
            "Dep. Variable:                  price   R-squared:                       0.829\n",
            "Model:                            OLS   Adj. R-squared:                  0.828\n",
            "Method:                 Least Squares   F-statistic:                     1754.\n",
            "Date:                Fri, 09 Apr 2021   Prob (F-statistic):               0.00\n",
            "Time:                        02:26:21   Log-Likelihood:                -79026.\n",
            "No. Observations:                7998   AIC:                         1.581e+05\n",
            "Df Residuals:                    7975   BIC:                         1.583e+05\n",
            "Df Model:                          22                                         \n",
            "Covariance Type:            nonrobust                                         \n",
            "==========================================================================================\n",
            "                             coef    std err          t      P>|t|      [0.025      0.975]\n",
            "------------------------------------------------------------------------------------------\n",
            "const                   3.024e+04    459.174     65.856      0.000    2.93e+04    3.11e+04\n",
            "car_age                -4080.4456     87.776    -46.487      0.000   -4252.510   -3908.381\n",
            "mileage                -3211.3998     88.992    -36.087      0.000   -3385.847   -3036.953\n",
            "tax                     -779.3341     67.773    -11.499      0.000    -912.186    -646.482\n",
            "mpg                    -2176.2811    133.043    -16.358      0.000   -2437.080   -1915.482\n",
            "engineSize              2658.3534     77.081     34.488      0.000    2507.254    2809.453\n",
            "transmission_Manual        7.1653    161.393      0.044      0.965    -309.208     323.538\n",
            "transmission_Semi-Auto   670.2896    129.524      5.175      0.000     416.389     924.190\n",
            "fuelType_Electric       8451.0661   3497.559      2.416      0.016    1594.937    1.53e+04\n",
            "fuelType_Hybrid         6195.2529    424.603     14.591      0.000    5362.920    7027.586\n",
            "fuelType_Other          4302.2979   1005.118      4.280      0.000    2332.004    6272.592\n",
            "fuelType_Petrol          409.6738    148.036      2.767      0.006     119.484     699.863\n",
            "model_category_Series   -1.36e+04    429.311    -31.689      0.000   -1.44e+04   -1.28e+04\n",
            "model_category_X       -6951.9800    439.790    -15.807      0.000   -7814.084   -6089.876\n",
            "model_category_Z       -9347.8901    640.655    -14.591      0.000   -1.06e+04   -8092.039\n",
            "model_category_i        1.332e+04   1501.627      8.873      0.000    1.04e+04    1.63e+04\n",
            "model_id_2               799.2970    182.279      4.385      0.000     441.982    1156.612\n",
            "model_id_3              3877.1981    157.312     24.646      0.000    3568.825    4185.572\n",
            "model_id_4              3710.0451    201.057     18.453      0.000    3315.921    4104.169\n",
            "model_id_5              7673.4692    200.129     38.343      0.000    7281.163    8065.775\n",
            "model_id_6              9484.2308    410.230     23.119      0.000    8680.072    1.03e+04\n",
            "model_id_7              2.032e+04    471.770     43.069      0.000    1.94e+04    2.12e+04\n",
            "model_id_8              2.655e+04    886.823     29.941      0.000    2.48e+04    2.83e+04\n",
            "==============================================================================\n",
            "Omnibus:                     6288.519   Durbin-Watson:                   2.032\n",
            "Prob(Omnibus):                  0.000   Jarque-Bera (JB):           714154.976\n",
            "Skew:                           3.064   Prob(JB):                         0.00\n",
            "Kurtosis:                      48.885   Cond. No.                         97.1\n",
            "==============================================================================\n",
            "\n",
            "Warnings:\n",
            "[1] Standard Errors assume that the covariance matrix of the errors is correctly specified.\n"
          ],
          "name": "stdout"
        }
      ]
    },
    {
      "cell_type": "markdown",
      "metadata": {
        "id": "ROZou660diPs"
      },
      "source": [
        "According to the regression analysis, all features has p-value smaller than 0.001 (except some one-hot encoded variable which have a high p-value but the original feature overall is still significant). Therefore, all varaibles are contributive to the prediction results. It was decided that no feature selection is necessary in the modeling procedure. "
      ]
    },
    {
      "cell_type": "markdown",
      "metadata": {
        "id": "Uw_TaeKOeHS_"
      },
      "source": [
        "### Machine Learning Model (Advanced Statistical Model)"
      ]
    },
    {
      "cell_type": "markdown",
      "metadata": {
        "id": "7qynJD9mfTby"
      },
      "source": [
        "After running linear regression analysis, more complex modeling techniques are used in order to select the model with the best prediction performance. 4 model types are used: LinearRegression, ElasticNet, RandomForestRegressor, and XGBRegressor. Grid searching for two major hyperparameters was used to make sure a proper complexity level was included."
      ]
    },
    {
      "cell_type": "markdown",
      "metadata": {
        "id": "sdt13SCmazJ4"
      },
      "source": [
        "####Linear Regression"
      ]
    },
    {
      "cell_type": "code",
      "metadata": {
        "colab": {
          "base_uri": "https://localhost:8080/"
        },
        "id": "QqMDJhyBL8_k",
        "outputId": "c4ddb1e4-4b55-44c9-cc87-c907f7e4d832"
      },
      "source": [
        "# Add regression to pipeline without parameter tuning\n",
        "lr_res,lr_cv_score,lr_test_score = pipeline_model(LinearRegression(),input_data,{})"
      ],
      "execution_count": 95,
      "outputs": [
        {
          "output_type": "stream",
          "text": [
            "[Pipeline] ...... (step 1 of 2) Processing preprocessor, total=   0.0s\n",
            "[Pipeline] ............. (step 2 of 2) Processing model, total=   0.0s\n",
            "rmse is 4468.07322039331 \n",
            " using model LinearRegression(copy_X=True, fit_intercept=True, n_jobs=None, normalize=False)\n"
          ],
          "name": "stdout"
        }
      ]
    },
    {
      "cell_type": "markdown",
      "metadata": {
        "id": "6jOD-L3ptS2g"
      },
      "source": [
        "#### Elastic Net"
      ]
    },
    {
      "cell_type": "code",
      "metadata": {
        "colab": {
          "base_uri": "https://localhost:8080/"
        },
        "id": "F1dbbUg0skb_",
        "outputId": "d045a4ac-35f9-4dfb-9c13-a87cb6dcecce"
      },
      "source": [
        "para_grid_en = {'model__alpha':[0,0.2,0.5,1,2],\n",
        "                'model__l1_ratio':[0,0.2,0.5,0.8,1]}\n",
        "# turn the alpha and l1 ration for elastic net \n",
        "en_res,en_cv_score,en_test_score = pipeline_model(ElasticNet(random_state=10),input_data,para_grid_en)"
      ],
      "execution_count": 96,
      "outputs": [
        {
          "output_type": "stream",
          "text": [
            "[Pipeline] ...... (step 1 of 2) Processing preprocessor, total=   0.0s\n",
            "[Pipeline] ............. (step 2 of 2) Processing model, total=   0.0s\n",
            "rmse is 4468.270347497224 \n",
            " using model ElasticNet(alpha=1.0, copy_X=True, fit_intercept=True, l1_ratio=0.5,\n",
            "           max_iter=1000, normalize=False, positive=False, precompute=False,\n",
            "           random_state=10, selection='cyclic', tol=0.0001, warm_start=False)\n"
          ],
          "name": "stdout"
        }
      ]
    },
    {
      "cell_type": "markdown",
      "metadata": {
        "id": "3A2hU323tWGZ"
      },
      "source": [
        "#### Random Forest"
      ]
    },
    {
      "cell_type": "code",
      "metadata": {
        "colab": {
          "base_uri": "https://localhost:8080/"
        },
        "id": "DzFXjbfwonhb",
        "outputId": "87ae576e-aa85-42ce-8404-05e2b3d9cdd4"
      },
      "source": [
        "para_grid_rf = {'model__n_estimators':[10,50,100,200],\n",
        "                'model__max_depth':[2,5,10,20]}\n",
        "# turn the number of estimators and max depth in Random Forest \n",
        "\n",
        "rf_res,rf_cv_score,rf_test_score = pipeline_model(RandomForestRegressor(random_state=10),input_data,para_grid_rf)"
      ],
      "execution_count": 97,
      "outputs": [
        {
          "output_type": "stream",
          "text": [
            "[Pipeline] ...... (step 1 of 2) Processing preprocessor, total=   0.0s\n"
          ],
          "name": "stdout"
        },
        {
          "output_type": "stream",
          "text": [
            "/usr/local/lib/python3.7/dist-packages/sklearn/pipeline.py:354: DataConversionWarning: A column-vector y was passed when a 1d array was expected. Please change the shape of y to (n_samples,), for example using ravel().\n",
            "  self._final_estimator.fit(Xt, y, **fit_params)\n"
          ],
          "name": "stderr"
        },
        {
          "output_type": "stream",
          "text": [
            "[Pipeline] ............. (step 2 of 2) Processing model, total=   5.2s\n",
            "rmse is 2406.007375484733 \n",
            " using model RandomForestRegressor(bootstrap=True, ccp_alpha=0.0, criterion='mse',\n",
            "                      max_depth=None, max_features='auto', max_leaf_nodes=None,\n",
            "                      max_samples=None, min_impurity_decrease=0.0,\n",
            "                      min_impurity_split=None, min_samples_leaf=1,\n",
            "                      min_samples_split=2, min_weight_fraction_leaf=0.0,\n",
            "                      n_estimators=100, n_jobs=None, oob_score=False,\n",
            "                      random_state=10, verbose=0, warm_start=False)\n"
          ],
          "name": "stdout"
        }
      ]
    },
    {
      "cell_type": "markdown",
      "metadata": {
        "id": "bclNFEq8tZGQ"
      },
      "source": [
        "#### Xgboost"
      ]
    },
    {
      "cell_type": "code",
      "metadata": {
        "colab": {
          "base_uri": "https://localhost:8080/"
        },
        "id": "Zjdkd6iT1OTI",
        "outputId": "d86c2e2c-e22a-4887-84c9-122d8fd8479e"
      },
      "source": [
        "para_grid_xgb = {'model__max_depth':[4,8,16],\n",
        "                 'model__eta':[0.05,0.1,0.3]\n",
        "                 }\n",
        "# turn the number of estimators and max depth in Xgboost \n",
        "\n",
        "xgb_res,xgb_cv_score,xgb_test_score = pipeline_model(XGBRegressor(objective='reg:squarederror',random_state=10),input_data,para_grid_xgb)"
      ],
      "execution_count": 98,
      "outputs": [
        {
          "output_type": "stream",
          "text": [
            "[Pipeline] ...... (step 1 of 2) Processing preprocessor, total=   0.0s\n",
            "[Pipeline] ............. (step 2 of 2) Processing model, total=   1.6s\n",
            "rmse is 2266.029786026894 \n",
            " using model XGBRegressor(base_score=0.5, booster='gbtree', colsample_bylevel=1,\n",
            "             colsample_bynode=1, colsample_bytree=1, gamma=0,\n",
            "             importance_type='gain', learning_rate=0.1, max_delta_step=0,\n",
            "             max_depth=3, min_child_weight=1, missing=None, n_estimators=100,\n",
            "             n_jobs=1, nthread=None, objective='reg:squarederror',\n",
            "             random_state=10, reg_alpha=0, reg_lambda=1, scale_pos_weight=1,\n",
            "             seed=None, silent=None, subsample=1, verbosity=1)\n"
          ],
          "name": "stdout"
        }
      ]
    },
    {
      "cell_type": "markdown",
      "metadata": {
        "id": "rCjM8KCztcHo"
      },
      "source": [
        "#### **Model Evaluation**:\n"
      ]
    },
    {
      "cell_type": "code",
      "metadata": {
        "id": "EKqsDjWoLzEL",
        "colab": {
          "base_uri": "https://localhost:8080/",
          "height": 293
        },
        "outputId": "0bb477e7-6942-4d91-af60-3055620bb313"
      },
      "source": [
        "score_result_dict = {\n",
        " 'model_name':['linear_regression','linear_regression','elastic_net','elastic_net','random_forest','random_forest','xgboost','xgboost'],\n",
        " 'score_type':['cv_error','test_error','cv_error','test_error','cv_error','test_error','cv_error','test_error'],\n",
        " 'RMSE': [lr_cv_score,lr_test_score,en_cv_score,en_test_score,rf_cv_score,rf_test_score,xgb_cv_score,xgb_test_score]\n",
        " }\n",
        "df_score = pd.DataFrame(score_result_dict)\n",
        "df_score"
      ],
      "execution_count": 99,
      "outputs": [
        {
          "output_type": "execute_result",
          "data": {
            "text/html": [
              "<div>\n",
              "<style scoped>\n",
              "    .dataframe tbody tr th:only-of-type {\n",
              "        vertical-align: middle;\n",
              "    }\n",
              "\n",
              "    .dataframe tbody tr th {\n",
              "        vertical-align: top;\n",
              "    }\n",
              "\n",
              "    .dataframe thead th {\n",
              "        text-align: right;\n",
              "    }\n",
              "</style>\n",
              "<table border=\"1\" class=\"dataframe\">\n",
              "  <thead>\n",
              "    <tr style=\"text-align: right;\">\n",
              "      <th></th>\n",
              "      <th>model_name</th>\n",
              "      <th>score_type</th>\n",
              "      <th>RMSE</th>\n",
              "    </tr>\n",
              "  </thead>\n",
              "  <tbody>\n",
              "    <tr>\n",
              "      <th>0</th>\n",
              "      <td>linear_regression</td>\n",
              "      <td>cv_error</td>\n",
              "      <td>4725.748290</td>\n",
              "    </tr>\n",
              "    <tr>\n",
              "      <th>1</th>\n",
              "      <td>linear_regression</td>\n",
              "      <td>test_error</td>\n",
              "      <td>4468.073220</td>\n",
              "    </tr>\n",
              "    <tr>\n",
              "      <th>2</th>\n",
              "      <td>elastic_net</td>\n",
              "      <td>cv_error</td>\n",
              "      <td>4725.609764</td>\n",
              "    </tr>\n",
              "    <tr>\n",
              "      <th>3</th>\n",
              "      <td>elastic_net</td>\n",
              "      <td>test_error</td>\n",
              "      <td>4468.270347</td>\n",
              "    </tr>\n",
              "    <tr>\n",
              "      <th>4</th>\n",
              "      <td>random_forest</td>\n",
              "      <td>cv_error</td>\n",
              "      <td>2634.901655</td>\n",
              "    </tr>\n",
              "    <tr>\n",
              "      <th>5</th>\n",
              "      <td>random_forest</td>\n",
              "      <td>test_error</td>\n",
              "      <td>2406.007375</td>\n",
              "    </tr>\n",
              "    <tr>\n",
              "      <th>6</th>\n",
              "      <td>xgboost</td>\n",
              "      <td>cv_error</td>\n",
              "      <td>2519.891690</td>\n",
              "    </tr>\n",
              "    <tr>\n",
              "      <th>7</th>\n",
              "      <td>xgboost</td>\n",
              "      <td>test_error</td>\n",
              "      <td>2266.029786</td>\n",
              "    </tr>\n",
              "  </tbody>\n",
              "</table>\n",
              "</div>"
            ],
            "text/plain": [
              "          model_name  score_type         RMSE\n",
              "0  linear_regression    cv_error  4725.748290\n",
              "1  linear_regression  test_error  4468.073220\n",
              "2        elastic_net    cv_error  4725.609764\n",
              "3        elastic_net  test_error  4468.270347\n",
              "4      random_forest    cv_error  2634.901655\n",
              "5      random_forest  test_error  2406.007375\n",
              "6            xgboost    cv_error  2519.891690\n",
              "7            xgboost  test_error  2266.029786"
            ]
          },
          "metadata": {
            "tags": []
          },
          "execution_count": 99
        }
      ]
    },
    {
      "cell_type": "code",
      "metadata": {
        "colab": {
          "base_uri": "https://localhost:8080/",
          "height": 297
        },
        "id": "bq6emirpOcsr",
        "outputId": "37d1b1ff-a687-41f0-ef9f-676b92114adb"
      },
      "source": [
        "sns.barplot(x=\"model_name\", hue=\"score_type\", y=\"RMSE\", data=df_score)\n",
        "plt.title('Model Root-mean Squared Error for train and test')\n",
        "plt.show()"
      ],
      "execution_count": 100,
      "outputs": [
        {
          "output_type": "display_data",
          "data": {
            "image/png": "[encoded data removed]",
            "text/plain": [
              "<Figure size 432x288 with 1 Axes>"
            ]
          },
          "metadata": {
            "tags": [],
            "needs_background": "light"
          }
        }
      ]
    },
    {
      "cell_type": "markdown",
      "metadata": {
        "id": "CXxF6y0aRlLN"
      },
      "source": [
        "**Summarize the Model Score:**\n",
        "\n",
        "The bar chart above shows the RMSE across 4 different models (with best hyperparameters) in 5 fold cross-validation setting (taking the mean cross-validated score of the best_estimator) and their RMSE in the testing setting.  According to this chart, xgboost model shows the best performance with the smallest RMSE value in cross-validation set and test set. Meanwhile, the RMSE calcuated in test set is consistent with the RMSE calculated in the cross-validation set across all models. It is also observed in the chart that tree based model overall have better perfermance then linear models. One interesting observation is the RMSE in cross-validation set is slightly higher than the that in the testing set. A possibie explanation is that a model is only trained using 80% of training data in cross-validation while the model have already retrained using 100% training data in testing. Additional 20% of samples might improve the model performance. Therefore, the model in the test set can have lower RMSE than the model in cross-validation. In summary, according to the RMSE in cross-validation set, xgboost is selected as the best model to use in this case.\n",
        "\n"
      ]
    },
    {
      "cell_type": "markdown",
      "metadata": {
        "id": "YhYQB1X6QwZy"
      },
      "source": [
        "### Select Xgboost Model as our Final Model"
      ]
    },
    {
      "cell_type": "markdown",
      "metadata": {
        "id": "I52E9gzPQ3tK"
      },
      "source": [
        "Plot Feature Importance"
      ]
    },
    {
      "cell_type": "code",
      "metadata": {
        "colab": {
          "base_uri": "https://localhost:8080/",
          "height": 623
        },
        "id": "wVljpzuZ2v7y",
        "outputId": "e170f028-8083-4ca1-d82e-0c2caec6fd10"
      },
      "source": [
        "plt.figure(figsize=(20,8))\n",
        "plt.bar(entire_col_ls,xgb_res.best_estimator_.named_steps.model.feature_importances_)\n",
        "plt.title('feature importance plot for random forest model')\n",
        "plt.xlabel('features')\n",
        "plt.xticks(rotation = 90) \n",
        "plt.show()\n",
        "\n"
      ],
      "execution_count": 101,
      "outputs": [
        {
          "output_type": "display_data",
          "data": {
            "image/png": "[encoded data removed]",
            "text/plain": [
              "<Figure size 1440x576 with 1 Axes>"
            ]
          },
          "metadata": {
            "tags": [],
            "needs_background": "light"
          }
        }
      ]
    },
    {
      "cell_type": "markdown",
      "metadata": {
        "id": "tdEM5aaLtzcT"
      },
      "source": [
        "In the feature importance plot, car_age, enginesize and model category have high influence on price. Model_category_i has the highest feature importance. In the data for Model i, there are only two models i3 and i8. Meanwhile, there are huge price differences between these two types. i3 usually range between 10k - 25k while i8 ranges between 50k - 70k. If the model type is fixed either for i3 or i8, the price has a relative small variance."
      ]
    },
    {
      "cell_type": "code",
      "metadata": {
        "colab": {
          "base_uri": "https://localhost:8080/",
          "height": 354
        },
        "id": "NIvJZYmf1ogS",
        "outputId": "7c696c14-040b-401d-b934-114b25c00323"
      },
      "source": [
        "# Check the i models in the data\n",
        "df_bmw[df_bmw['model_category']=='i'].head(10)"
      ],
      "execution_count": 102,
      "outputs": [
        {
          "output_type": "execute_result",
          "data": {
            "text/html": [
              "<div>\n",
              "<style scoped>\n",
              "    .dataframe tbody tr th:only-of-type {\n",
              "        vertical-align: middle;\n",
              "    }\n",
              "\n",
              "    .dataframe tbody tr th {\n",
              "        vertical-align: top;\n",
              "    }\n",
              "\n",
              "    .dataframe thead th {\n",
              "        text-align: right;\n",
              "    }\n",
              "</style>\n",
              "<table border=\"1\" class=\"dataframe\">\n",
              "  <thead>\n",
              "    <tr style=\"text-align: right;\">\n",
              "      <th></th>\n",
              "      <th>model</th>\n",
              "      <th>year</th>\n",
              "      <th>price</th>\n",
              "      <th>transmission</th>\n",
              "      <th>mileage</th>\n",
              "      <th>fuelType</th>\n",
              "      <th>tax</th>\n",
              "      <th>mpg</th>\n",
              "      <th>engineSize</th>\n",
              "      <th>model_category</th>\n",
              "      <th>model_id</th>\n",
              "      <th>car_age</th>\n",
              "    </tr>\n",
              "  </thead>\n",
              "  <tbody>\n",
              "    <tr>\n",
              "      <th>32</th>\n",
              "      <td>i3</td>\n",
              "      <td>2016</td>\n",
              "      <td>17100</td>\n",
              "      <td>Automatic</td>\n",
              "      <td>25269</td>\n",
              "      <td>Other</td>\n",
              "      <td>0</td>\n",
              "      <td>470.8</td>\n",
              "      <td>0.6</td>\n",
              "      <td>i</td>\n",
              "      <td>3</td>\n",
              "      <td>5</td>\n",
              "    </tr>\n",
              "    <tr>\n",
              "      <th>411</th>\n",
              "      <td>i8</td>\n",
              "      <td>2016</td>\n",
              "      <td>48998</td>\n",
              "      <td>Automatic</td>\n",
              "      <td>10087</td>\n",
              "      <td>Hybrid</td>\n",
              "      <td>0</td>\n",
              "      <td>134.5</td>\n",
              "      <td>1.5</td>\n",
              "      <td>i</td>\n",
              "      <td>8</td>\n",
              "      <td>5</td>\n",
              "    </tr>\n",
              "    <tr>\n",
              "      <th>619</th>\n",
              "      <td>i3</td>\n",
              "      <td>2017</td>\n",
              "      <td>19998</td>\n",
              "      <td>Automatic</td>\n",
              "      <td>41949</td>\n",
              "      <td>Hybrid</td>\n",
              "      <td>140</td>\n",
              "      <td>470.8</td>\n",
              "      <td>0.0</td>\n",
              "      <td>i</td>\n",
              "      <td>3</td>\n",
              "      <td>4</td>\n",
              "    </tr>\n",
              "    <tr>\n",
              "      <th>775</th>\n",
              "      <td>i3</td>\n",
              "      <td>2017</td>\n",
              "      <td>19998</td>\n",
              "      <td>Automatic</td>\n",
              "      <td>41146</td>\n",
              "      <td>Hybrid</td>\n",
              "      <td>0</td>\n",
              "      <td>470.8</td>\n",
              "      <td>0.0</td>\n",
              "      <td>i</td>\n",
              "      <td>3</td>\n",
              "      <td>4</td>\n",
              "    </tr>\n",
              "    <tr>\n",
              "      <th>777</th>\n",
              "      <td>i3</td>\n",
              "      <td>2017</td>\n",
              "      <td>21898</td>\n",
              "      <td>Automatic</td>\n",
              "      <td>10839</td>\n",
              "      <td>Hybrid</td>\n",
              "      <td>0</td>\n",
              "      <td>470.8</td>\n",
              "      <td>0.0</td>\n",
              "      <td>i</td>\n",
              "      <td>3</td>\n",
              "      <td>4</td>\n",
              "    </tr>\n",
              "    <tr>\n",
              "      <th>872</th>\n",
              "      <td>i8</td>\n",
              "      <td>2019</td>\n",
              "      <td>67500</td>\n",
              "      <td>Automatic</td>\n",
              "      <td>6000</td>\n",
              "      <td>Hybrid</td>\n",
              "      <td>140</td>\n",
              "      <td>141.2</td>\n",
              "      <td>1.5</td>\n",
              "      <td>i</td>\n",
              "      <td>8</td>\n",
              "      <td>2</td>\n",
              "    </tr>\n",
              "    <tr>\n",
              "      <th>889</th>\n",
              "      <td>i8</td>\n",
              "      <td>2017</td>\n",
              "      <td>48898</td>\n",
              "      <td>Automatic</td>\n",
              "      <td>36127</td>\n",
              "      <td>Hybrid</td>\n",
              "      <td>0</td>\n",
              "      <td>134.5</td>\n",
              "      <td>1.5</td>\n",
              "      <td>i</td>\n",
              "      <td>8</td>\n",
              "      <td>4</td>\n",
              "    </tr>\n",
              "    <tr>\n",
              "      <th>1219</th>\n",
              "      <td>i8</td>\n",
              "      <td>2018</td>\n",
              "      <td>57870</td>\n",
              "      <td>Automatic</td>\n",
              "      <td>11278</td>\n",
              "      <td>Hybrid</td>\n",
              "      <td>135</td>\n",
              "      <td>134.5</td>\n",
              "      <td>1.5</td>\n",
              "      <td>i</td>\n",
              "      <td>8</td>\n",
              "      <td>3</td>\n",
              "    </tr>\n",
              "    <tr>\n",
              "      <th>1571</th>\n",
              "      <td>i8</td>\n",
              "      <td>2019</td>\n",
              "      <td>74226</td>\n",
              "      <td>Automatic</td>\n",
              "      <td>10</td>\n",
              "      <td>Hybrid</td>\n",
              "      <td>135</td>\n",
              "      <td>141.2</td>\n",
              "      <td>1.5</td>\n",
              "      <td>i</td>\n",
              "      <td>8</td>\n",
              "      <td>2</td>\n",
              "    </tr>\n",
              "    <tr>\n",
              "      <th>1802</th>\n",
              "      <td>i3</td>\n",
              "      <td>2017</td>\n",
              "      <td>19980</td>\n",
              "      <td>Automatic</td>\n",
              "      <td>26965</td>\n",
              "      <td>Hybrid</td>\n",
              "      <td>140</td>\n",
              "      <td>470.8</td>\n",
              "      <td>0.0</td>\n",
              "      <td>i</td>\n",
              "      <td>3</td>\n",
              "      <td>4</td>\n",
              "    </tr>\n",
              "  </tbody>\n",
              "</table>\n",
              "</div>"
            ],
            "text/plain": [
              "     model  year  price  ... model_category  model_id car_age\n",
              "32      i3  2016  17100  ...              i         3       5\n",
              "411     i8  2016  48998  ...              i         8       5\n",
              "619     i3  2017  19998  ...              i         3       4\n",
              "775     i3  2017  19998  ...              i         3       4\n",
              "777     i3  2017  21898  ...              i         3       4\n",
              "872     i8  2019  67500  ...              i         8       2\n",
              "889     i8  2017  48898  ...              i         8       4\n",
              "1219    i8  2018  57870  ...              i         8       3\n",
              "1571    i8  2019  74226  ...              i         8       2\n",
              "1802    i3  2017  19980  ...              i         3       4\n",
              "\n",
              "[10 rows x 12 columns]"
            ]
          },
          "metadata": {
            "tags": []
          },
          "execution_count": 102
        }
      ]
    },
    {
      "cell_type": "markdown",
      "metadata": {
        "id": "K1A0emiHsKAi"
      },
      "source": [
        "# **Application**"
      ]
    },
    {
      "cell_type": "markdown",
      "metadata": {
        "id": "yK-CjoPup5Tj"
      },
      "source": [
        "Using the model results, calculate_my_used_car_price moduel is developed. This application is designed to help estimate a used bmw car price based on features including 'car_age', 'transmission', 'mileage', 'tax', 'mpg', 'engineSize','fuelType', 'model'. It can be used for both car seller and buyer to estimate the car price. It would ask user to input these features and use the trained model to predict a price based on the input features."
      ]
    },
    {
      "cell_type": "code",
      "metadata": {
        "id": "crnPCSh_ia_k"
      },
      "source": [
        "class calculate_my_used_car_price:\n",
        "    \"\"\"\n",
        "    This class uses the trained model to predict the car price with input features\n",
        "    It generates hint for user to input their car feature\n",
        "    It is also able to show a list of same category bmw with similar car age to \n",
        "    give the user more information in addtion to predicted price\n",
        "  \n",
        "    \"\"\"\n",
        "    def __init__(self,dmw_dataset,model):\n",
        "        \"\"\"\n",
        "        dmw_dataset: pd.dataframe, this is the original dataframe df_dmw\n",
        "        model: sklearn.pipeline, it can be rf_res, xgb_res, en_res from the above process\n",
        "        \"\"\"\n",
        "        self.df = dmw_dataset\n",
        "        self.model = model\n",
        "        self.pred_input_dict = {k:np.nan for k in ['car_age', 'transmission', 'mileage', 'tax', 'mpg', 'engineSize',\n",
        "           'fuelType', 'model_category', 'model_id']}\n",
        "        self.car_price = None\n",
        "\n",
        "    def prompt_for_input(self,feature_name):\n",
        "        \"\"\"\n",
        "        provide prompt based on feature name, \n",
        "        verify the user input\n",
        "        ask user to re-enter if the input value is not valid\n",
        "        store the input value into a dict\n",
        "        feature_name: str\n",
        "        \"\"\"\n",
        "        prompt =  self.get_input_prompt(feature_name)\n",
        "        if len(prompt) == 2:\n",
        "            obj_prompt, obj_set =  prompt\n",
        "            obj_input = input(f'please enter {feature_name} information of your car,'+obj_prompt+':  ')\n",
        "            while obj_input not in obj_set:\n",
        "                print('the value you entered is not valid, please retry')\n",
        "                obj_input = input(f'please enter {feature_name} information of your car,'+obj_prompt+':  ')\n",
        "            self.pred_input_dict[feature_name] = obj_input\n",
        "        else:\n",
        "            num_input = float(input(f'please enter {feature_name} information of your car,'+prompt+':  '))\n",
        "            while num_input <= 0:\n",
        "                print('the value you entered is not valid, please retry')\n",
        "                num_input = float(input(f'please enter {feature_name} information of your car,'+prompt+':  '))\n",
        "            self.pred_input_dict[feature_name] = num_input\n",
        "    \n",
        "    def ask_for_input(self):\n",
        "        \"\"\"\n",
        "        iterate prompt for input for all features\n",
        "        \"\"\"\n",
        "        for k in self.pred_input_dict.keys():\n",
        "            self.prompt_for_input(k)\n",
        "\n",
        "\n",
        " \n",
        "    def get_input_prompt(self,feature_name):\n",
        "        \"\"\"\n",
        "        get prompt str and validation criteria based on the current feature_name\n",
        "        feature_name: str\n",
        "        \"\"\"\n",
        "        if self.df[feature_name].dtype == object:\n",
        "            return f'please enter a value from the following {self.df[feature_name].unique()}',self.df[feature_name].unique()\n",
        "        else:\n",
        "            min_range = self.df[feature_name].min()\n",
        "            max_range = self.df[feature_name].max()\n",
        "        return  f'a common value to enter is between {min_range} and {max_range}'\n",
        "\n",
        "    def calculate_price(self):\n",
        "        \"\"\"\n",
        "        use the trained model pipeline to estimate the price\n",
        "        \"\"\"\n",
        "        self.ask_for_input()\n",
        "        pred_df = pd.DataFrame(self.pred_input_dict,index=[0])\n",
        "        self.car_price = self.model.predict(pred_df)[0]\n",
        "        print(f'your car price is {self.car_price}')\n",
        "\n",
        "\n",
        "    def show_similar_car(self):\n",
        "        \"\"\"\n",
        "        In addition to showing user the car price, \n",
        "        we want to provide a list of similar used cars with price to our user \n",
        "        to make our prediction more convincing \n",
        "        similar cars are queried based on \n",
        "        1. the same model type\n",
        "        2. the closest car age\n",
        "\n",
        "        \"\"\"\n",
        "        if self.car_price is None:\n",
        "            print('please calculate the price first')\n",
        "        else:\n",
        "            df_same_model = df_bmw[(df_bmw['model_id']==self.pred_input_dict['model_id']\n",
        "                                  )&(df_bmw['model_category']==self.pred_input_dict['model_category']\n",
        "                                    )].reset_index(drop=True)\n",
        "            return df_same_model.iloc[(df_same_model['car_age']-self.pred_input_dict['car_age']).abs().values.argsort()[:10]]\n"
      ],
      "execution_count": 103,
      "outputs": []
    },
    {
      "cell_type": "code",
      "metadata": {
        "id": "Ux122K3Bqe7F"
      },
      "source": [
        "mycar = calculate_my_used_car_price(df_bmw,xgb_res)"
      ],
      "execution_count": 104,
      "outputs": []
    },
    {
      "cell_type": "code",
      "metadata": {
        "colab": {
          "base_uri": "https://localhost:8080/"
        },
        "id": "DPuJ56puUb5r",
        "outputId": "75b04047-23a5-4833-a42d-e2492abbdff6"
      },
      "source": [
        "mycar.calculate_price()"
      ],
      "execution_count": 106,
      "outputs": [
        {
          "output_type": "stream",
          "text": [
            "please enter car_age information of your car,a common value to enter is between 1 and 25:  4\n",
            "please enter transmission information of your car,please enter a value from the following ['Automatic' 'Manual' 'Semi-Auto']:  Automatic\n",
            "please enter mileage information of your car,a common value to enter is between 1 and 214000:  20000\n",
            "please enter tax information of your car,a common value to enter is between 0 and 580:  100\n",
            "please enter mpg information of your car,a common value to enter is between 5.5 and 470.8:  67\n",
            "please enter engineSize information of your car,a common value to enter is between 0.0 and 6.6:  3\n",
            "please enter fuelType information of your car,please enter a value from the following ['Diesel' 'Petrol' 'Other' 'Hybrid' 'Electric']:  Diesel\n",
            "please enter model_category information of your car,please enter a value from the following ['Series' 'X' 'i' 'M' 'Z']:  X\n",
            "please enter model_id information of your car,a common value to enter is between 1 and 8:  5\n",
            "your car price is 27896.994140625\n"
          ],
          "name": "stdout"
        }
      ]
    },
    {
      "cell_type": "markdown",
      "metadata": {
        "id": "0AlS9lMhpvAw"
      },
      "source": [
        "In addition to the predicted price, the application also allows seller to see a list of price of the cars which are under simiar conditions. For example, if a seller has a bwm x5 of year 2016, using the function show_similar_car(), the seller would find a list of bwm x5 of year 2016 with their prices (queried from our database). In this way, a seller is more informed about his/her car price"
      ]
    },
    {
      "cell_type": "code",
      "metadata": {
        "colab": {
          "base_uri": "https://localhost:8080/",
          "height": 354
        },
        "id": "Pe8S62cR564T",
        "outputId": "cbf143be-c21c-4fe5-e95e-6f571ed48612"
      },
      "source": [
        "mycar.show_similar_car()"
      ],
      "execution_count": 107,
      "outputs": [
        {
          "output_type": "execute_result",
          "data": {
            "text/html": [
              "<div>\n",
              "<style scoped>\n",
              "    .dataframe tbody tr th:only-of-type {\n",
              "        vertical-align: middle;\n",
              "    }\n",
              "\n",
              "    .dataframe tbody tr th {\n",
              "        vertical-align: top;\n",
              "    }\n",
              "\n",
              "    .dataframe thead th {\n",
              "        text-align: right;\n",
              "    }\n",
              "</style>\n",
              "<table border=\"1\" class=\"dataframe\">\n",
              "  <thead>\n",
              "    <tr style=\"text-align: right;\">\n",
              "      <th></th>\n",
              "      <th>model</th>\n",
              "      <th>year</th>\n",
              "      <th>price</th>\n",
              "      <th>transmission</th>\n",
              "      <th>mileage</th>\n",
              "      <th>fuelType</th>\n",
              "      <th>tax</th>\n",
              "      <th>mpg</th>\n",
              "      <th>engineSize</th>\n",
              "      <th>model_category</th>\n",
              "      <th>model_id</th>\n",
              "      <th>car_age</th>\n",
              "    </tr>\n",
              "  </thead>\n",
              "  <tbody>\n",
              "    <tr>\n",
              "      <th>90</th>\n",
              "      <td>X5</td>\n",
              "      <td>2017</td>\n",
              "      <td>50990</td>\n",
              "      <td>Automatic</td>\n",
              "      <td>10</td>\n",
              "      <td>Diesel</td>\n",
              "      <td>145</td>\n",
              "      <td>47.1</td>\n",
              "      <td>3.0</td>\n",
              "      <td>X</td>\n",
              "      <td>5</td>\n",
              "      <td>4</td>\n",
              "    </tr>\n",
              "    <tr>\n",
              "      <th>35</th>\n",
              "      <td>X5</td>\n",
              "      <td>2017</td>\n",
              "      <td>36898</td>\n",
              "      <td>Automatic</td>\n",
              "      <td>28193</td>\n",
              "      <td>Petrol</td>\n",
              "      <td>150</td>\n",
              "      <td>29.1</td>\n",
              "      <td>4.4</td>\n",
              "      <td>X</td>\n",
              "      <td>5</td>\n",
              "      <td>4</td>\n",
              "    </tr>\n",
              "    <tr>\n",
              "      <th>428</th>\n",
              "      <td>X5</td>\n",
              "      <td>2017</td>\n",
              "      <td>32000</td>\n",
              "      <td>Automatic</td>\n",
              "      <td>29183</td>\n",
              "      <td>Diesel</td>\n",
              "      <td>150</td>\n",
              "      <td>47.1</td>\n",
              "      <td>3.0</td>\n",
              "      <td>X</td>\n",
              "      <td>5</td>\n",
              "      <td>4</td>\n",
              "    </tr>\n",
              "    <tr>\n",
              "      <th>427</th>\n",
              "      <td>X5</td>\n",
              "      <td>2017</td>\n",
              "      <td>38000</td>\n",
              "      <td>Automatic</td>\n",
              "      <td>9038</td>\n",
              "      <td>Petrol</td>\n",
              "      <td>150</td>\n",
              "      <td>29.1</td>\n",
              "      <td>4.4</td>\n",
              "      <td>X</td>\n",
              "      <td>5</td>\n",
              "      <td>4</td>\n",
              "    </tr>\n",
              "    <tr>\n",
              "      <th>38</th>\n",
              "      <td>X5</td>\n",
              "      <td>2017</td>\n",
              "      <td>30990</td>\n",
              "      <td>Automatic</td>\n",
              "      <td>31536</td>\n",
              "      <td>Diesel</td>\n",
              "      <td>200</td>\n",
              "      <td>47.1</td>\n",
              "      <td>3.0</td>\n",
              "      <td>X</td>\n",
              "      <td>5</td>\n",
              "      <td>4</td>\n",
              "    </tr>\n",
              "    <tr>\n",
              "      <th>39</th>\n",
              "      <td>X5</td>\n",
              "      <td>2017</td>\n",
              "      <td>32498</td>\n",
              "      <td>Automatic</td>\n",
              "      <td>22306</td>\n",
              "      <td>Diesel</td>\n",
              "      <td>145</td>\n",
              "      <td>47.1</td>\n",
              "      <td>3.0</td>\n",
              "      <td>X</td>\n",
              "      <td>5</td>\n",
              "      <td>4</td>\n",
              "    </tr>\n",
              "    <tr>\n",
              "      <th>419</th>\n",
              "      <td>X5</td>\n",
              "      <td>2017</td>\n",
              "      <td>31499</td>\n",
              "      <td>Automatic</td>\n",
              "      <td>23646</td>\n",
              "      <td>Diesel</td>\n",
              "      <td>145</td>\n",
              "      <td>47.1</td>\n",
              "      <td>3.0</td>\n",
              "      <td>X</td>\n",
              "      <td>5</td>\n",
              "      <td>4</td>\n",
              "    </tr>\n",
              "    <tr>\n",
              "      <th>85</th>\n",
              "      <td>X5</td>\n",
              "      <td>2017</td>\n",
              "      <td>33991</td>\n",
              "      <td>Automatic</td>\n",
              "      <td>32771</td>\n",
              "      <td>Diesel</td>\n",
              "      <td>145</td>\n",
              "      <td>47.1</td>\n",
              "      <td>3.0</td>\n",
              "      <td>X</td>\n",
              "      <td>5</td>\n",
              "      <td>4</td>\n",
              "    </tr>\n",
              "    <tr>\n",
              "      <th>131</th>\n",
              "      <td>X5</td>\n",
              "      <td>2017</td>\n",
              "      <td>35470</td>\n",
              "      <td>Automatic</td>\n",
              "      <td>47717</td>\n",
              "      <td>Diesel</td>\n",
              "      <td>235</td>\n",
              "      <td>42.8</td>\n",
              "      <td>3.0</td>\n",
              "      <td>X</td>\n",
              "      <td>5</td>\n",
              "      <td>4</td>\n",
              "    </tr>\n",
              "    <tr>\n",
              "      <th>214</th>\n",
              "      <td>X5</td>\n",
              "      <td>2017</td>\n",
              "      <td>31950</td>\n",
              "      <td>Automatic</td>\n",
              "      <td>27932</td>\n",
              "      <td>Diesel</td>\n",
              "      <td>145</td>\n",
              "      <td>47.1</td>\n",
              "      <td>3.0</td>\n",
              "      <td>X</td>\n",
              "      <td>5</td>\n",
              "      <td>4</td>\n",
              "    </tr>\n",
              "  </tbody>\n",
              "</table>\n",
              "</div>"
            ],
            "text/plain": [
              "    model  year  price  ... model_category  model_id car_age\n",
              "90     X5  2017  50990  ...              X         5       4\n",
              "35     X5  2017  36898  ...              X         5       4\n",
              "428    X5  2017  32000  ...              X         5       4\n",
              "427    X5  2017  38000  ...              X         5       4\n",
              "38     X5  2017  30990  ...              X         5       4\n",
              "39     X5  2017  32498  ...              X         5       4\n",
              "419    X5  2017  31499  ...              X         5       4\n",
              "85     X5  2017  33991  ...              X         5       4\n",
              "131    X5  2017  35470  ...              X         5       4\n",
              "214    X5  2017  31950  ...              X         5       4\n",
              "\n",
              "[10 rows x 12 columns]"
            ]
          },
          "metadata": {
            "tags": []
          },
          "execution_count": 107
        }
      ]
    },
    {
      "cell_type": "markdown",
      "metadata": {
        "id": "LNTtFVnZxd81"
      },
      "source": [
        "Direction for improvements: \n",
        "\n",
        "1. RMSE is used as the accuracy matrix as it tells on average how much error we made on our price prediction. In addition to this, the application can also have a confidence score for each prediction, which can be calculated based on the distance between car features and sample car features. In other words, how many car prices with similar car features that exists in the current database can be an indicator of the confidence in our prediction.\n",
        "\n",
        "2. When a user want to calcuate their used bmw price, it is not necessary for one to enter all the features. Additional models can be trained which only takes in a subset of features and makes price predictions. In this case, user does not have to have all the information for the price calculation.\n",
        "\n",
        "3. The business problem here is to predict the used car market value given certain features. But it is also possible that we use the price and other features to predict the year of the car or the model of the car. All of these problems can be solved using the same modeling approach.\n",
        "\n",
        "4. If more time is given, an application can be implemented mainly based on the optimal model fitted for used BMW vehicle buyers: when a buyers specify his/her price range and some fixed feature, the App can provide him/her with a relationship between other features and the market price within the price range. For example, when a customer specify his budget to be between 25K to 30K and specify a vehicle with automatic transmission and 3 Series, the App can give him how mileage and year influence market price to assist him in better making a decision.\n",
        "\n",
        "## **Conclusion & Recommendation**\n",
        "To conclude this case study, the xgboost model provides a fast and relatively accurate way for customers to evalute the market value of a used BMW car. The error range is below $2266, and the current model only supports predictions given all variables. Target customers for this use case include both used car sellers and buyers.\n",
        "\n",
        "To take better usage of this model, it is recommended that the stakeholders evaluate the use cases in further details, including how many customers are interested in this functionality, and their needs for other relevant use cases. Given the current model, it does not require extensive data science effort to fit for other use cases. For example, the adding and reducing of features of this model can be easily reproduced using the same strategy used here. In the direction for improvements section, more future directions for improvement are given."
      ]
    },
    {
      "cell_type": "code",
      "metadata": {
        "id": "XN2qqYCB309s"
      },
      "source": [
        ""
      ],
      "execution_count": null,
      "outputs": []
    }
  ]
}